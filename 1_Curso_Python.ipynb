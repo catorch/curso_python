{
  "nbformat": 4,
  "nbformat_minor": 0,
  "metadata": {
    "colab": {
      "provenance": [],
      "authorship_tag": "ABX9TyOOS0lpet7G41wvgEemfpta",
      "include_colab_link": true
    },
    "kernelspec": {
      "name": "python3",
      "display_name": "Python 3"
    },
    "language_info": {
      "name": "python"
    }
  },
  "cells": [
    {
      "cell_type": "markdown",
      "metadata": {
        "id": "view-in-github",
        "colab_type": "text"
      },
      "source": [
        "<a href=\"https://colab.research.google.com/github/catorch/curso_python/blob/main/1_Curso_Python.ipynb\" target=\"_parent\"><img src=\"https://colab.research.google.com/assets/colab-badge.svg\" alt=\"Open In Colab\"/></a>"
      ]
    },
    {
      "cell_type": "markdown",
      "source": [
        "# Contenido del curso"
      ],
      "metadata": {
        "id": "1206Gw1DJhoa"
      }
    },
    {
      "cell_type": "markdown",
      "source": [
        "Lección 1: Introducción a la Programación en Python\n",
        "- Entendiendo la importancia de Python en el mundo impulsado por datos de hoy\n",
        "- Introducción a Python para principiantes sin experiencia previa en programación\n",
        "- Python Interactivo: Un enfoque práctico para aprender Python\n",
        "- Manejo de datos en Python: Cómo almacenar, acceder y manipular datos\n",
        "\n",
        "Lección 2: Técnicas Avanzadas de Python\n",
        "- Aprovechando funciones, métodos y paquetes de Python para reducir el código y resolver problemas complejos\n",
        "- Introducción a las Listas de Python: Almacenamiento y manipulación eficiente de datos\n",
        "- Primeros pasos hacia el manejo de grandes volúmenes de datos\n",
        "\n",
        "Lección Final: Explorando la Ciencia de Datos con Python\n",
        "- Introducción a NumPy: Un paquete fundamental de Python para la ciencia de datos\n",
        "- Trabajando con herramientas poderosas en el array de NumPy\n",
        "- Comenzando con la exploración de datos: Cómo derivar perspectivas de los datos usando Python\n",
        "- Cómo el aprendizaje continuo en Python puede ayudarte a convertirte en un mejor analista de datos o científico de datos."
      ],
      "metadata": {
        "id": "hEjiucP5Jj0o"
      }
    },
    {
      "cell_type": "markdown",
      "source": [
        "<img src=\"https://emc.xperiencify.com/api/image/6543dd522e4d275d81ed5a9a\" width=\"250\">\n"
      ],
      "metadata": {
        "id": "9zN0phIyJ92w"
      }
    },
    {
      "cell_type": "markdown",
      "source": [
        "## Descripción\n",
        "Dominio de Python: Dínamo de Datos es un mini-curso diseñado para convertirte en un profesional de Python, incluso si nunca has escrito una línea de código antes. Este curso te llevará en un viaje desde comprender la importancia de Python en nuestro mundo impulsado por los datos, hasta dominar técnicas avanzadas de Python para manejar grandes volúmenes de datos. Obtendrás experiencia práctica con Python interactivo y aprenderás a aprovechar funciones, métodos y paquetes de Python para resolver problemas complejos. Al final, estarás explorando la ciencia de datos con Python, utilizando herramientas poderosas como NumPy para obtener perspectivas de los datos. Este curso es tu entrada para convertirte en un dínamo de datos con Python."
      ],
      "metadata": {
        "id": "Mqo8woCqKPjC"
      }
    },
    {
      "cell_type": "markdown",
      "source": [
        "## Lección 1\n",
        "\n",
        "\n"
      ],
      "metadata": {
        "id": "aYrT1SFNMQgD"
      }
    },
    {
      "cell_type": "markdown",
      "source": [
        "\n",
        "## 1.1 ¡Hola Mundo!\n",
        "\n",
        "En Python, existen múltiples formas de imprimir texto en la consola. Aquí te muestro diez ejemplos diferentes, utilizando la frase \"Hola Mundo\" como referencia:\n",
        "\n",
        "1. **Uso básico de print**:\n",
        "   ```python\n",
        "   print(\"Hola Mundo\")\n",
        "   ```\n",
        "   Este es el método más directo para imprimir texto en Python.\n",
        "\n",
        "2. **Utilizando una variable**:\n",
        "   ```python\n",
        "   mensaje = \"Hola Mundo\"\n",
        "   print(mensaje)\n",
        "   ```\n",
        "   Aquí almacenamos el texto en una variable y luego la imprimimos.\n",
        "\n",
        "3. **Concatenación de cadenas**:\n",
        "   ```python\n",
        "   print(\"Hola\" + \" \" + \"Mundo\")\n",
        "   ```\n",
        "   Aquí concatenamos dos cadenas con un espacio entre ellas.\n",
        "\n",
        "4. **Utilizando el operador de formato %**:\n",
        "   ```python\n",
        "   print(\"%s %s\" % (\"Hola\", \"Mundo\"))\n",
        "   ```\n",
        "   Utilizamos el operador de formato `%` para insertar las cadenas.\n",
        "\n",
        "5. **Usando el método format**:\n",
        "   ```python\n",
        "   print(\"{} {}\".format(\"Hola\", \"Mundo\"))\n",
        "   ```\n",
        "   Este método es más moderno y flexible para formatear cadenas.\n",
        "\n",
        "6. **F-Strings (Python 3.6 en adelante)**:\n",
        "   ```python\n",
        "   print(f\"{'Hola'} {'Mundo'}\")\n",
        "   ```\n",
        "   Las F-Strings son una forma concisa y legible de incluir expresiones de Python dentro de cadenas literales.\n",
        "\n",
        "7. **Separador en print**:\n",
        "   ```python\n",
        "   print(\"Hola\", \"Mundo\", sep=\" \")\n",
        "   ```\n",
        "   El argumento `sep` define el separador entre las cadenas.\n",
        "\n",
        "8. **Terminador en print**:\n",
        "   ```python\n",
        "   print(\"Hola\", end=\" \")\n",
        "   print(\"Mundo\")\n",
        "   ```\n",
        "   El argumento `end` define lo que se imprime al final de la línea, que por defecto es un salto de línea.\n",
        "\n",
        "9. **Usando una lista y el método join**:\n",
        "   ```python\n",
        "   palabras = [\"Hola\", \"Mundo\"]\n",
        "   print(\" \".join(palabras))\n",
        "   ```\n",
        "   El método `join` concatena una lista de cadenas utilizando el separador definido.\n",
        "\n",
        "10. **Utilizando caracteres de escape**:\n",
        "    ```python\n",
        "    print(\"Hola\\nMundo\")\n",
        "    ```\n",
        "    Aquí `\\n` es un carácter de escape que indica un salto de línea, pero como está en una sola instrucción `print`, el resultado será de dos líneas.\n",
        "\n",
        "Cada uno de estos métodos puede ser útil dependiendo del contexto y de lo que necesites lograr en tu código. La elección entre ellos dependerá de la complejidad del texto a imprimir y de las operaciones que necesites realizar con las cadenas."
      ],
      "metadata": {
        "id": "wzhw0gbiQSbz"
      }
    },
    {
      "cell_type": "markdown",
      "source": [
        "\n",
        "\n",
        "## Ejemplo 1: Formatear e imprimir una receta de cocina\n",
        "\n",
        "El objetivo de este ejercicio es imprimir una receta sencilla, incluyendo cantidades y pasos, utilizando diferentes tipos de datos y una F-String para formatear el mensaje.\n",
        "\n",
        "1. **Cree variables de diferentes tipos**:\n",
        "   - Una variable de tipo `string` para el nombre de la receta, por ejemplo: `nombre_receta = \"Galletas de Chocolate\"`.\n",
        "   - Una variable de tipo `int` para la cantidad de galletas que se esperan obtener, por ejemplo: `cantidad_galletas = 24`.\n",
        "   - Una variable de tipo `float` para representar la cantidad de un ingrediente, como la harina en kilogramos, por ejemplo: `cantidad_harina = 0.75`.\n",
        "\n",
        "2. **Use estas variables para imprimir la receta**:\n",
        "   - Debe imprimir el nombre de la receta, la cantidad esperada de galletas y la cantidad de harina necesaria, todo en un formato amigable.\n",
        "\n",
        "Ejemplo de código para el ejercicio:\n",
        "```python\n",
        "nombre_receta = \"Galletas de Chocolate\"\n",
        "cantidad_galletas = 24\n",
        "cantidad_harina = 0.75\n",
        "\n",
        "print(f\"Receta: {nombre_receta}\")\n",
        "print(f\"Cantidad esperada: {cantidad_galletas} galletas\")\n",
        "print(f\"Harina necesaria: {cantidad_harina} kg\")\n",
        "```\n",
        "\n",
        "**Explicación detallada del código**:\n",
        "\n",
        "- `nombre_receta = \"Galletas de Chocolate\"`: Se crea una variable llamada `nombre_receta` de tipo `string` que almacena el nombre de la receta.\n",
        "\n",
        "- `cantidad_galletas = 24`: Se asigna a `cantidad_galletas` el valor `24`, que es un número entero (`int`) representando el número de galletas que se obtendrán.\n",
        "\n",
        "- `cantidad_harina = 0.75`: Se asigna a `cantidad_harina` el valor `0.75`, que es un número flotante (`float`) que representa la cantidad de harina en kilogramos necesaria para la receta.\n",
        "\n",
        "- `print(f\"Receta: {nombre_receta}\")`: Imprime el nombre de la receta utilizando una F-String.\n",
        "\n",
        "- `print(f\"Cantidad esperada: {cantidad_galletas} galletas\")`: Imprime la cantidad esperada de galletas, integrando la variable `cantidad_galletas` dentro de la F-String.\n",
        "\n",
        "- `print(f\"Harina necesaria: {cantidad_harina} kg\")`: Imprime la cantidad de harina necesaria, incluyendo la variable `cantidad_harina` en la F-String.\n",
        "\n",
        "Cuando se ejecuta este código, la salida sería:\n",
        "```\n",
        "Receta: Galletas de Chocolate\n",
        "Cantidad esperada: 24 galletas\n",
        "Harina necesaria: 0.75 kg\n",
        "```\n",
        "\n",
        "Este ejercicio demuestra cómo se pueden combinar variables de diferentes tipos para imprimir una salida estructurada y clara, lo cual es muy común en la generación de reportes, visualización de datos y en interfaces de usuario en la programación."
      ],
      "metadata": {
        "id": "_5hb1kfLPuFj"
      }
    },
    {
      "cell_type": "markdown",
      "source": [
        "### Ejercicio 1.1"
      ],
      "metadata": {
        "id": "udeWZuDeNqzX"
      }
    },
    {
      "cell_type": "code",
      "source": [
        "# 1.1.1 Imprimir texto simple:\n",
        "# Escribe un programa que imprima \"Explorar el cosmos es inspirador\" en la pantalla.\n"
      ],
      "metadata": {
        "id": "hLn13obvNuPi"
      },
      "execution_count": null,
      "outputs": []
    },
    {
      "cell_type": "code",
      "source": [
        "# 1.1.2 Almacena la frase \"Aprender Python es divertido\" en una variable y luego imprímela.\n"
      ],
      "metadata": {
        "id": "8Ts6fWnyN6jt"
      },
      "execution_count": null,
      "outputs": []
    },
    {
      "cell_type": "code",
      "source": [
        "# 1.1.3 Usar una variable para imprimir:\n",
        "# Almacena la frase \"La programación transforma ideas en realidad\" en una variable y luego imprímela.\n",
        "\n"
      ],
      "metadata": {
        "id": "YZPc32vbN-h2"
      },
      "execution_count": null,
      "outputs": []
    },
    {
      "cell_type": "code",
      "source": [
        "# 1.1.4 Concatenación de cadenas al imprimir:\n",
        "# Imprime \"El arte y la ciencia se entrelazan en la creatividad\" concatenando palabras.\n"
      ],
      "metadata": {
        "id": "beCbvja8OHue"
      },
      "execution_count": null,
      "outputs": []
    },
    {
      "cell_type": "code",
      "source": [
        "# 1.1.5 Formato de cadena con el operador %:\n",
        "# Utiliza el operador % para formatear e imprimir las palabras en la frase \"Los sueños de hoy son las realidades del mañana\".\n"
      ],
      "metadata": {
        "id": "QdWAq4DvOJBB"
      },
      "execution_count": null,
      "outputs": []
    },
    {
      "cell_type": "code",
      "source": [
        "# 1.1.6 Formato de cadena con .format():\n",
        "# Utiliza el método .format() para imprimir \"La música es la banda sonora de la vida\".\n"
      ],
      "metadata": {
        "id": "hbeCdwYLOOeG"
      },
      "execution_count": null,
      "outputs": []
    },
    {
      "cell_type": "code",
      "source": [
        "# 1.1.7 F-Strings:\n",
        "# Utiliza una F-String para imprimir \"El conocimiento es poder\".\n"
      ],
      "metadata": {
        "id": "cC7ktS0AOmWF"
      },
      "execution_count": null,
      "outputs": []
    },
    {
      "cell_type": "code",
      "source": [
        "# 1.1.8 Argumentos sep y end:\n",
        "# Imprime \"La\", \"paciencia\", \"es\", \"una\", \"virtud\" en la misma línea con un espacio entre ellos, pero modifica el argumento end para agregar una sonrisa. i.e. La paciencia es una virtud :)\n"
      ],
      "metadata": {
        "id": "vFdqujOzOqrs"
      },
      "execution_count": null,
      "outputs": []
    },
    {
      "cell_type": "code",
      "source": [
        "# 1.1.9 Impresión con join:\n",
        "# Utiliza una lista de palabras y el método .join() para imprimir \"Viajar abre las puertas del entendimiento\".\n"
      ],
      "metadata": {
        "colab": {
          "base_uri": "https://localhost:8080/"
        },
        "id": "HnG1vQslOytT",
        "outputId": "f1c89e52-e784-4dbc-f766-73c13dab0ca4"
      },
      "execution_count": null,
      "outputs": [
        {
          "output_type": "stream",
          "name": "stdout",
          "text": [
            "La paciencia es una virtud :)\n"
          ]
        }
      ]
    },
    {
      "cell_type": "code",
      "source": [
        "# 1.1.10 Usar el carácter de escape para imprimir en varias líneas:\n",
        "# Imprime cada palabra de \"La curiosidad es el motor del descubrimiento\" en una línea nueva.\n",
        "# Resultado:\n",
        "# La\n",
        "# curiosidad\n",
        "# es\n",
        "# el\n",
        "# motor\n",
        "# del\n",
        "# descubrimiento\n"
      ],
      "metadata": {
        "colab": {
          "base_uri": "https://localhost:8080/"
        },
        "id": "U4fuVutSPAI4",
        "outputId": "c200504a-bcb4-49eb-edd1-e850fc396856"
      },
      "execution_count": null,
      "outputs": [
        {
          "output_type": "stream",
          "name": "stdout",
          "text": [
            "La\n",
            "curiosidad\n",
            "es\n",
            "el\n",
            "motor\n",
            "del\n",
            "descubrimiento\n"
          ]
        }
      ]
    },
    {
      "cell_type": "code",
      "source": [
        "# 1.1.11 Imprimir variables de diferentes tipos:\n",
        "# Crea variables de diferentes tipos (string, int, float) y úsalas para imprimir \"Leí 42 libros en 6.5 meses\", donde \"42\" es un número entero y \"6.5\" es un número flotante.\n"
      ],
      "metadata": {
        "id": "HA_FhwGLPDuP"
      },
      "execution_count": null,
      "outputs": []
    },
    {
      "cell_type": "markdown",
      "source": [
        "## 1.2 Comentarios\n",
        "\n",
        "En Python, los comentarios son líneas que no se ejecutan y sirven para explicar el código, hacer anotaciones para otros desarrolladores o para uno mismo, y para desactivar temporalmente partes del código. Existen principalmente dos formas de hacer comentarios: utilizando el símbolo `#` para comentarios de una sola línea y utilizando triples comillas para comentarios de múltiples líneas o comentarios en bloque. A continuación, te muestro ejemplos de cómo usar comentarios en Python, explicados con Markdown.\n",
        "\n",
        "### Ejemplo 1: Comentario de una sola línea\n",
        "```python\n",
        "# Esto es un comentario de una sola línea\n",
        "print(\"Hello, World!\")\n",
        "```\n",
        "Aquí, `# Esto es un comentario de una sola línea` no se ejecutará.\n",
        "\n",
        "### Ejemplo 2: Comentario al final de una línea de código\n",
        "```python\n",
        "print(\"Hello, World!\")  # Este comentario sigue a un código\n",
        "```\n",
        "El comentario no afecta el código que le precede en la misma línea.\n",
        "\n",
        "### Ejemplo 3: Comentarios consecutivos de una sola línea\n",
        "```python\n",
        "# Cada una de estas líneas es un comentario\n",
        "# y ninguna será ejecutada por Python\n",
        "# Esto es útil para proporcionar detalles o explicaciones\n",
        "```\n",
        "Se usan múltiples `#` para varias líneas de comentarios.\n",
        "\n",
        "### Ejemplo 4: Uso de comentarios para el debugging\n",
        "```python\n",
        "# print(\"Este código no se ejecutará\")\n",
        "print(\"Este código se ejecutará\")\n",
        "```\n",
        "El primer `print` está comentado y no se ejecutará, lo cual es útil para depurar.\n",
        "\n",
        "### Ejemplo 5: Comentarios en bloque con triples comillas\n",
        "```python\n",
        "\"\"\"\n",
        "Este es un comentario en bloque.\n",
        "Puede abarcar varias líneas.\n",
        "Todo el texto entre las triples comillas será ignorado por Python.\n",
        "\"\"\"\n",
        "print(\"Hello, World!\")\n",
        "```\n",
        "Este tipo de comentario es útil para dejar descripciones largas o documentos de varias líneas.\n",
        "\n",
        "### Ejemplo 6: Comentarios en bloque al final de una línea de código\n",
        "```python\n",
        "print(\"Hello, World!\")  \"\"\" Este comentario no afectará el código \"\"\"\n",
        "```\n",
        "Aunque este estilo no es estándar y puede confundir a algunos editores de texto.\n",
        "\n",
        "### Ejemplo 7: Comentarios para documentar una función\n",
        "```python\n",
        "def suma(a, b):\n",
        "    \"\"\"Esta función suma dos números y devuelve el resultado.\"\"\"\n",
        "    return a + b\n",
        "```\n",
        "El comentario actúa como una docstring, proporcionando documentación para la función.\n",
        "\n",
        "### Ejemplo 8: Comentarios para deshabilitar partes de código\n",
        "```python\n",
        "# print(\"Este código está desactivado\")\n",
        "print(\"Este código está activo\")\n",
        "```\n",
        "Solo se imprimirá la línea que no está comentada.\n",
        "\n",
        "### Ejemplo 9: Comentarios para separar secciones de código\n",
        "```python\n",
        "# ---- Sección de definiciones ----\n",
        "def mi_funcion():\n",
        "    pass\n",
        "\n",
        "# ---- Sección principal ----\n",
        "print(\"Hello, World!\")\n",
        "```\n",
        "Estos comentarios actúan como separadores visuales para diferentes secciones del código.\n",
        "\n",
        "### Ejemplo 10: Comentarios para explicar una línea compleja de código\n",
        "```python\n",
        "x = 42   # Asigna el valor 42 a la variable x\n",
        "```\n",
        "El comentario proporciona claridad sobre lo que hace esa línea de código.\n",
        "\n",
        "Cuando escribes comentarios en Python, es importante mantenerlos actualizados con los cambios en el código para que no generen confusión más adelante. Los buenos comentarios pueden hacer que el código sea mucho más fácil de entender y mantener."
      ],
      "metadata": {
        "id": "LYJUnXxgQnlo"
      }
    },
    {
      "cell_type": "markdown",
      "source": [
        "## Ejercicio 1.2\n",
        "\n",
        "Para un principiante en Python, practicar el uso de comentarios es una excelente manera de comenzar a aprender cómo documentar el código correctamente. Aquí tienes diez ejercicios que pueden ayudar a entender y aplicar los comentarios en Python."
      ],
      "metadata": {
        "id": "MdTUycYnRcCe"
      }
    },
    {
      "cell_type": "code",
      "source": [
        "# Ejercicio 1.2.1: Comentar una línea\n",
        "# Escribe un comentario que diga \"Este es mi primer comentario\" y luego escribe una instrucción de impresión con el mensaje \"Hola mundo\".\n",
        "\n",
        "# <Escribe tu comentario aqui>\n",
        "print(\"Hola mundo\")"
      ],
      "metadata": {
        "id": "fTenLeh_QYml"
      },
      "execution_count": null,
      "outputs": []
    },
    {
      "cell_type": "code",
      "source": [
        "# Ejercicio 1.2.2: Comentarios al final de la línea de código\n",
        "# Escribe una línea de código y añade un comentario al final explicando lo que hace el código.\n",
        "\n",
        "print(\"Aprendiendo Python!\") # <Escribe tu comentario aqui>\n"
      ],
      "metadata": {
        "colab": {
          "base_uri": "https://localhost:8080/"
        },
        "id": "YOryRxZaRmjM",
        "outputId": "f75e5dab-401a-433c-eb0c-e2ebf4614ccc"
      },
      "execution_count": null,
      "outputs": [
        {
          "output_type": "stream",
          "name": "stdout",
          "text": [
            "Aprendiendo Python!\n"
          ]
        }
      ]
    },
    {
      "cell_type": "code",
      "source": [
        "# Ejercicio 3: Uso de comentarios para describir el código\n",
        "# Escribe un pequeño bloque de código y usa comentarios para describir cada paso.\n",
        "\n",
        "# <Escribe tu comentario aqui>\n",
        "a = 10\n",
        "# <Escribe tu comentario aqui>\n",
        "b = 20\n",
        "# <Escribe tu comentario aqui>\n",
        "c = a + b\n",
        "# <Escribe tu comentario aqui>\n",
        "print(c)"
      ],
      "metadata": {
        "colab": {
          "base_uri": "https://localhost:8080/"
        },
        "id": "raYp7vvgR0xd",
        "outputId": "1ec64abd-79cd-4f2b-b154-201d26e44a5b"
      },
      "execution_count": null,
      "outputs": [
        {
          "output_type": "stream",
          "name": "stdout",
          "text": [
            "30\n"
          ]
        }
      ]
    },
    {
      "cell_type": "code",
      "source": [
        "# Ejercicio 4: Comentarios para el debugging\n",
        "# Comenta una línea de código que cause un error para que el programa se ejecute correctamente.\n",
        "print(\"Este código tiene un error)\n",
        "print(\"Este código funciona correctamente\")"
      ],
      "metadata": {
        "id": "096g_PMcR86z"
      },
      "execution_count": null,
      "outputs": []
    },
    {
      "cell_type": "code",
      "source": [
        "# Ejercicio 5: Uso de comentarios en bloque\n",
        "# Escribe un comentario en bloque que explique el propósito de un pequeño programa que sume dos números.\n",
        "\n",
        "\n",
        "\n",
        "numero1 = 5\n",
        "numero2 = 3\n",
        "suma = numero1 + numero2\n",
        "print(\"La suma es:\", suma)"
      ],
      "metadata": {
        "id": "incWDlDKSCSA"
      },
      "execution_count": null,
      "outputs": []
    },
    {
      "cell_type": "code",
      "source": [
        "# Ejercicio 6: Documentar funciones con docstrings\n",
        "# Crea una función que divida dos números y utiliza un docstring para explicar qué hace la función.\n",
        "\n",
        "def dividir(x, y):\n",
        "    \"\"\"<Escribe tu comentario aqui>\"\"\"\n",
        "    return x / y"
      ],
      "metadata": {
        "id": "iTganR0dSJ_M"
      },
      "execution_count": null,
      "outputs": []
    },
    {
      "cell_type": "code",
      "source": [
        "# Ejercicio 7: Comentar código obsoleto\n",
        "# Tienes un bloque de código antiguo que ya no se usa. Comenta todo el bloque para que no se ejecute.\n",
        "\n",
        "# Este código ya no es necesario y ha sido reemplazado por una nueva funcionalidad\n",
        "print(\"Parte del antiguo sistema\")\n",
        "print(\"Este código ya no es relevante\")"
      ],
      "metadata": {
        "id": "Y8KDGjR5SROG"
      },
      "execution_count": null,
      "outputs": []
    },
    {
      "cell_type": "code",
      "source": [
        "# Ejercicio 8: Comentarios para clarificar\n",
        "# Agrega comentarios para aclarar un código que podría ser confuso para los principiantes.\n",
        "\n",
        "# <Escribe tu comentario aqui>\n",
        "resultado = 10 * 5\n",
        "# <Escribe tu comentario aqui>\n",
        "print(resultado)"
      ],
      "metadata": {
        "id": "gnMQlot_SWyE"
      },
      "execution_count": null,
      "outputs": []
    },
    {
      "cell_type": "code",
      "source": [
        "# Ejercicio 9: Separar código con comentarios\n",
        "# Utiliza comentarios para separar visualmente las diferentes partes de un programa, como la inicialización, el procesamiento y la salida.\n",
        "\n",
        "# ---- <Escribe tu comentario aqui> ----\n",
        "a = 10\n",
        "b = 20\n",
        "\n",
        "# ---- <Escribe tu comentario aqui> ----\n",
        "suma = a + b\n",
        "\n",
        "# ---- <Escribe tu comentario aqui> ----\n",
        "print(\"La suma es:\", suma)"
      ],
      "metadata": {
        "id": "RGWSeCgTSdN8"
      },
      "execution_count": null,
      "outputs": []
    },
    {
      "cell_type": "code",
      "source": [
        "# Ejercicio 10: Comentarios detallados en un bucle\n",
        "# Escribe un bucle for y utiliza comentarios para explicar cómo funciona y qué está haciendo.\n",
        "\n",
        "# <Escribe tu comentario aqui>\n",
        "for i in range(1, 6):\n",
        "    # <Escribe tu comentario aqui>\n",
        "    print(i)  # <Escribe tu comentario aqui>\n"
      ],
      "metadata": {
        "id": "y1Jq_KUTSjPg"
      },
      "execution_count": null,
      "outputs": []
    },
    {
      "cell_type": "markdown",
      "source": [
        "## 1.3 Operaciones matemáticas\n",
        "\n",
        "Python es un lenguaje de programación que se ha ganado la reputación de ser especialmente adecuado para tareas que involucran cálculos matemáticos. Esto se debe a su sintaxis clara y legible, así como a su potente conjunto de operadores y funciones incorporadas que facilitan la realización de operaciones matemáticas básicas y avanzadas.**bold text**\n",
        "\n",
        "El lenguaje ofrece operadores para las operaciones aritméticas estándar:\n",
        "\n",
        "- **Suma (`+`)**: Une dos números para obtener su total.\n",
        "- **Resta (`-`)**: Resta el segundo número del primero.\n",
        "- **Multiplicación (`*`)**: Calcula el producto de dos números.\n",
        "- **División (`/`)**: Divide el primer número por el segundo, resultando en un número flotante.\n",
        "- **División entera (`//`)**: Divide el primer número por el segundo, descartando cualquier fracción y devolviendo un número entero.\n",
        "- **Módulo (`%`)**: Devuelve el residuo de la división del primer número por el segundo.\n",
        "- **Exponenciación** (`**`) : Eleva el primer número a la potencia del segundo.\n",
        "\n",
        "Además de estos operadores, Python también maneja el orden de las operaciones (también conocido como precedencia de operadores) de la misma manera que la aritmética convencional, siguiendo las reglas matemáticas estándar. Por ejemplo, las operaciones de multiplicación y división se realizan antes que la suma y la resta, a menos que se utilicen paréntesis para alterar este orden.\n",
        "\n",
        "Python puede manejar tanto números enteros (`int`) como números de punto flotante (`float`), y realizar conversiones entre ellos según sea necesario. Esto permite realizar cálculos con un alto grado de precisión y flexibilidad.\n",
        "\n",
        "Para ilustrar cómo se pueden realizar cálculos en Python, aquí hay ejemplos concretos:\n",
        "\n",
        "1. Para imprimir la suma de 4 y 5, escribirías `print(4 + 5)`.\n",
        "2. Para imprimir el resultado de restar 5 de 5, usarías `print(5 - 5)`.\n",
        "3. Para multiplicar 3 por 5, escribirías `print(3 * 5)`.\n",
        "4. Para dividir 10 por 2, usarías `print(10 / 2)`.\n",
        "\n",
        "Estos son los fundamentos de usar Python como una calculadora. A medida que los usuarios se vuelven más avanzados, pueden descubrir y utilizar bibliotecas como `math` y `numpy` para cálculos aún más complejos y funciones matemáticas especializadas."
      ],
      "metadata": {
        "id": "FRuet5AQTGQ_"
      }
    },
    {
      "cell_type": "markdown",
      "source": [
        "## Ejercicio 1.3"
      ],
      "metadata": {
        "id": "F7ngJC96VCNa"
      }
    },
    {
      "cell_type": "code",
      "source": [
        "# Ejercicio 1\n",
        "# Suma 15 y 30 e imprime el resultado.\n"
      ],
      "metadata": {
        "id": "wFjk6nQLTYLV"
      },
      "execution_count": null,
      "outputs": []
    },
    {
      "cell_type": "code",
      "source": [
        "# Ejercicio 2\n",
        "# Resta 2050 por 1998 e imprime el resultado.\n"
      ],
      "metadata": {
        "id": "raCna-x0UBOM"
      },
      "execution_count": null,
      "outputs": []
    },
    {
      "cell_type": "code",
      "source": [
        "# Ejercicio 3\n",
        "# Multiplica 127 por 0 y muestra el resultado.\n"
      ],
      "metadata": {
        "id": "zAO_O_ifUGSS"
      },
      "execution_count": null,
      "outputs": []
    },
    {
      "cell_type": "code",
      "source": [
        "# Ejercicio 4\n",
        "# Divide 30 entre 5 y muestra el resultado.\n"
      ],
      "metadata": {
        "id": "Shaf0H7zUHW3"
      },
      "execution_count": null,
      "outputs": []
    },
    {
      "cell_type": "code",
      "source": [
        "# Ejercicio 5\n",
        "# Calcula el residuo de dividir 28 entre 6.\n"
      ],
      "metadata": {
        "id": "qVpMNy6rUJXM"
      },
      "execution_count": null,
      "outputs": []
    },
    {
      "cell_type": "code",
      "source": [
        "# Ejercicio 6\n",
        "# Calcula 2 elevado a la potencia de 10.\n"
      ],
      "metadata": {
        "id": "oMLx4h0hUMOg"
      },
      "execution_count": null,
      "outputs": []
    },
    {
      "cell_type": "code",
      "source": [
        "# Ejercicio 7\n",
        "# Encuentra el resultado de una división entera de 100 entre 9.\n"
      ],
      "metadata": {
        "id": "8l5htBiZUTaA"
      },
      "execution_count": null,
      "outputs": []
    },
    {
      "cell_type": "code",
      "source": [
        "# Ejercicio 8\n",
        "# Suma 0.75 y 0.25 e imprime el resultado.\n"
      ],
      "metadata": {
        "id": "gr5xoLcZUWyP"
      },
      "execution_count": null,
      "outputs": []
    },
    {
      "cell_type": "code",
      "source": [
        "# Ejercicio 9\n",
        "# Resta 100.5 de 200 e imprime el resultado.\n"
      ],
      "metadata": {
        "id": "1dJ67R3RUYsj"
      },
      "execution_count": null,
      "outputs": []
    },
    {
      "cell_type": "code",
      "source": [
        "# Ejercicio 10\n",
        "# Multiplica 12.7 por 3.5 y muestra el resultado.\n"
      ],
      "metadata": {
        "id": "CAZh7etFUajg"
      },
      "execution_count": null,
      "outputs": []
    },
    {
      "cell_type": "code",
      "source": [
        "# Ejercicio 11\n",
        "# Divide 5.5 entre 1.1 y muestra el resultado.\n"
      ],
      "metadata": {
        "id": "MsUDelJtUcPb"
      },
      "execution_count": null,
      "outputs": []
    },
    {
      "cell_type": "code",
      "source": [
        "# Ejercicio 12\n",
        "# Calcula el residuo de dividir 55 entre 4.\n"
      ],
      "metadata": {
        "id": "9HtMWeOuUeYT"
      },
      "execution_count": null,
      "outputs": []
    },
    {
      "cell_type": "code",
      "source": [
        "# Ejercicio 13\n",
        "# Calcula 9 elevado a la potencia de 3.\n"
      ],
      "metadata": {
        "id": "_UXgRBh0UgNe"
      },
      "execution_count": null,
      "outputs": []
    },
    {
      "cell_type": "code",
      "source": [
        "# Ejercicio 14\n",
        "# Realiza una división entera de 12345 entre 123 y muestra el resultado.\n"
      ],
      "metadata": {
        "id": "wnojVS7nUkIA"
      },
      "execution_count": null,
      "outputs": []
    },
    {
      "cell_type": "code",
      "source": [
        "# Ejercicio 15\n",
        "# Suma tres números: 58, 22.4, y 7.6 e imprime el total.\n"
      ],
      "metadata": {
        "id": "cbBc2SgKUnk5"
      },
      "execution_count": null,
      "outputs": []
    },
    {
      "cell_type": "code",
      "source": [
        "# Ejercicio 16\n",
        "# Resta 205 por 19.99 y muestra el resultado.\n"
      ],
      "metadata": {
        "id": "baUTArzPUppJ"
      },
      "execution_count": null,
      "outputs": []
    },
    {
      "cell_type": "code",
      "source": [
        "# Ejercicio 17\n",
        "# Multiplica cuatro números: 7, 8, 9 y 0.5.\n"
      ],
      "metadata": {
        "id": "Z67P_RKZUqh9"
      },
      "execution_count": null,
      "outputs": []
    },
    {
      "cell_type": "code",
      "source": [
        "# Ejercicio 18\n",
        "# Divide 2500 entre 9.81 y muestra el resultado con dos decimales.\n"
      ],
      "metadata": {
        "id": "Slj3OpkSUsi0"
      },
      "execution_count": null,
      "outputs": []
    },
    {
      "cell_type": "code",
      "source": [
        "# Ejercicio 19\n",
        "# Calcula el promedio de cinco números: 23, 76, 45, 12, y 37.\n"
      ],
      "metadata": {
        "id": "EirWxMqnUu-s"
      },
      "execution_count": null,
      "outputs": []
    },
    {
      "cell_type": "code",
      "source": [
        "# Ejercicio 20\n",
        "# Encuentra la hipotenusa de un triángulo rectángulo con lados de 9 y 12 (usa el teorema de Pitágoras y la función math.sqrt).\n"
      ],
      "metadata": {
        "id": "IU2HsEbkUx57"
      },
      "execution_count": null,
      "outputs": []
    },
    {
      "cell_type": "markdown",
      "source": [
        "## 1.4 Librería `math`\n",
        "\n",
        "La biblioteca `math` en Python es un módulo estándar que proporciona acceso a funciones matemáticas definidas por el estándar C. Cuando trabajas con cálculos que necesitan constantes matemáticas (como π o e) o funciones especializadas (como trigonometría, exponenciales, logaritmos, etc.), este módulo se vuelve esencial.\n",
        "\n",
        "Para importar el módulo `math` en tu script o en la consola interactiva de Python, utilizas la declaración `import`. Aquí está cómo hacerlo y por qué:\n",
        "\n",
        "```python\n",
        "import math\n",
        "```\n",
        "\n",
        "Al hacer esto, estás diciéndole a Python que cargue el módulo `math` en tu entorno de trabajo actual. Después de importarlo, puedes utilizar todas las funciones y constantes que ofrece el módulo. Por ejemplo:\n",
        "\n",
        "```python\n",
        "# Calcula el seno de 90 grados\n",
        "sin_90 = math.sin(math.radians(90))\n",
        "\n",
        "# Calcula el valor de e elevado a la potencia de 2\n",
        "e_pow_2 = math.exp(2)\n",
        "\n",
        "# Calcula el logaritmo base 10 de 1000\n",
        "log_1000 = math.log10(1000)\n",
        "```\n",
        "\n",
        "En estos ejemplos, `math.sin()`, `math.radians()`, `math.exp()`, y `math.log10()` son todas funciones del módulo `math`.\n",
        "\n",
        "El motivo de importar `math` en lugar de simplemente usar funciones básicas de Python es que Python no tiene incorporadas estas funciones matemáticas avanzadas en su conjunto de instrucciones por defecto. Al importar `math`, expandes las capacidades de Python para incluir operaciones matemáticas que son comunes en la ciencia, la ingeniería y otros campos técnicos."
      ],
      "metadata": {
        "id": "Fk7DENGtVSVy"
      }
    },
    {
      "cell_type": "markdown",
      "source": [
        "## Ejercicio 1.4\n",
        "\n",
        "Aquí tienes 10 problemas de física y química que se pueden resolver utilizando operaciones matemáticas en Python. Estos problemas permitirán practicar el uso de las operaciones básicas, así como algunas funciones de la biblioteca `math`.\n",
        "\n",
        "\n",
        "Estos problemas abarcan una variedad de temas y conceptos dentro de la física y la química, y pueden ser resueltos con cálculos matemáticos utilizando Python. Resolverlos ayudará a los estudiantes a entender cómo se pueden aplicar los principios matemáticos a situaciones del mundo real en la ciencia."
      ],
      "metadata": {
        "id": "Hlrfl9FwVntR"
      }
    },
    {
      "cell_type": "markdown",
      "source": [
        "**Problema de Física 1: Velocidad Promedio**\n",
        "Una bicicleta recorre una distancia de 15 km en 30 minutos. Calcula su velocidad promedio en km/h."
      ],
      "metadata": {
        "id": "Uj7c58xtV3r6"
      }
    },
    {
      "cell_type": "code",
      "source": [],
      "metadata": {
        "id": "bC8uMnd7VyGs"
      },
      "execution_count": null,
      "outputs": []
    },
    {
      "cell_type": "markdown",
      "source": [
        "\n",
        "**Problema de Física 2: Caída Libre**\n",
        "Una pelota se deja caer desde una altura de 45 metros. Calcula el tiempo que tarda en llegar al suelo. (Ignora la resistencia del aire y usa $ g = 9.81 \\, \\text{m/s}^2 $)."
      ],
      "metadata": {
        "id": "1bzYBK-4V55d"
      }
    },
    {
      "cell_type": "code",
      "source": [],
      "metadata": {
        "id": "kAq4BX6hV_f3"
      },
      "execution_count": null,
      "outputs": []
    },
    {
      "cell_type": "markdown",
      "source": [
        "**Problema de Física 3: Ley de Ohm**\n",
        "Si una bombilla está conectada a un circuito con una resistencia de 240 ohmios y hay una corriente de 0.5 amperios fluyendo, ¿cuál es el voltaje a través de la bombilla?"
      ],
      "metadata": {
        "id": "A7ix4bJlWAmc"
      }
    },
    {
      "cell_type": "code",
      "source": [],
      "metadata": {
        "id": "-6oB9EONWCaU"
      },
      "execution_count": null,
      "outputs": []
    },
    {
      "cell_type": "markdown",
      "source": [
        "**Problema de Física 4: Energía Cinética**\n",
        "Calcula la energía cinética de un coche con una masa de 1500 kg que se mueve a una velocidad de 18 m/s."
      ],
      "metadata": {
        "id": "uF1MTaqGWGfu"
      }
    },
    {
      "cell_type": "code",
      "source": [],
      "metadata": {
        "id": "f_W-9dZyWIDi"
      },
      "execution_count": null,
      "outputs": []
    },
    {
      "cell_type": "markdown",
      "source": [
        "**Problema de Física 5: Presión Hidrostática**\n",
        "Calcula la presión hidrostática a 10 metros de profundidad en agua, sabiendo que la densidad del agua es $ 1000 \\, \\text{kg/m}^3 $ y $ g = 9.81 \\, \\text{m/s}^2 $.\n"
      ],
      "metadata": {
        "id": "w9G67ewDWLAT"
      }
    },
    {
      "cell_type": "code",
      "source": [],
      "metadata": {
        "id": "X-A0oR40WRAQ"
      },
      "execution_count": null,
      "outputs": []
    },
    {
      "cell_type": "markdown",
      "source": [
        "**Problema de Química 1: Ley de los Gases Ideales**\n",
        "Encuentra el volumen ocupado por 2 moles de un gas ideal a una presión de 1 atm y una temperatura de 273.15 K. (Usa $ R = 0.0821 \\, \\text{L·atm/(mol·K)} $)."
      ],
      "metadata": {
        "id": "bGtlzYGvWRNs"
      }
    },
    {
      "cell_type": "code",
      "source": [],
      "metadata": {
        "id": "BHx2O0i5WTFf"
      },
      "execution_count": null,
      "outputs": []
    },
    {
      "cell_type": "markdown",
      "source": [
        "**Problema de Química 2: Concentración Molar**\n",
        "¿Cuál es la concentración molar de una solución que se preparó disolviendo 58.5 gramos de NaCl en suficiente agua para hacer 2 litros de solución?"
      ],
      "metadata": {
        "id": "Jhcs8lDmWVSN"
      }
    },
    {
      "cell_type": "code",
      "source": [],
      "metadata": {
        "id": "1evb30LeWWi3"
      },
      "execution_count": null,
      "outputs": []
    },
    {
      "cell_type": "markdown",
      "source": [
        "**Problema de Química 3: Rendimiento de Reacción**\n",
        "Si 50 gramos de reactivo A reaccionan con exceso de reactivo B para producir 65 gramos de producto C, ¿cuál es el rendimiento porcentual si el rendimiento teórico es de 80 gramos?"
      ],
      "metadata": {
        "id": "Sx5M5ppQWZem"
      }
    },
    {
      "cell_type": "code",
      "source": [],
      "metadata": {
        "id": "J12aCI7sWYA5"
      },
      "execution_count": null,
      "outputs": []
    },
    {
      "cell_type": "markdown",
      "source": [
        "**Problema de Química 4: Calor Específico**\n",
        "¿Cuánta energía se necesita para aumentar la temperatura de 150 g de agua de 25 °C a 100 °C? (El calor específico del agua es $ 4.18 \\, \\text{J/(g·°C)} $)."
      ],
      "metadata": {
        "id": "rpOmrxkdWc06"
      }
    },
    {
      "cell_type": "code",
      "source": [],
      "metadata": {
        "id": "CqUYoqrRWmE9"
      },
      "execution_count": null,
      "outputs": []
    },
    {
      "cell_type": "markdown",
      "source": [
        "**Problema de Química 5: Dilución de Soluciones**\n",
        "Si tienes 500 mL de una solución de ácido clorhídrico (HCl) con una concentración de 2 M y la diluyes hasta 1.5 L, ¿cuál es la nueva concentración de la solución?\n"
      ],
      "metadata": {
        "id": "jxjZJ6WzVHEj"
      }
    },
    {
      "cell_type": "code",
      "source": [],
      "metadata": {
        "id": "yIl0fwZXUy7G"
      },
      "execution_count": null,
      "outputs": []
    },
    {
      "cell_type": "markdown",
      "source": [
        "## 1.5 Variables y Tipos de Datos\n",
        "\n",
        "Las variables y tipos de datos en Python son fundamentales para entender cómo el lenguaje almacena y maneja la información. Vamos a explorar esto paso a paso.\n",
        "\n",
        "### Variables en Python\n",
        "\n",
        "#### ¿Qué es una variable?\n",
        "\n",
        "Imagina una variable como una caja donde puedes guardar algo, como un número o texto. En Python, defines una variable dándole un nombre y asignándole un valor con el signo igual (`=`).\n",
        "\n",
        "Por ejemplo:\n",
        "```python\n",
        "altura = 1.79\n",
        "peso = 68.7\n",
        "```\n",
        "\n",
        "Aquí, `altura` y `peso` son variables. `1.79` es el valor asignado a `altura`, y `68.7` es el valor asignado a `peso`.\n",
        "\n",
        "#### Casos de Uso de Variables\n",
        "\n",
        "Las variables te permiten:\n",
        "- Guardar un valor para usarlo más tarde.\n",
        "- Cambiar fácilmente un valor sin tener que buscar y reemplazar cada ocurrencia en el código.\n",
        "- Hacer tu código más legible y organizado.\n",
        "\n",
        "### Tipos de Datos en Python\n",
        "\n",
        "Python es un lenguaje de tipado dinámico, lo que significa que no necesitas declarar el tipo de una variable cuando la creas.\n",
        "\n",
        "#### Tipos Numéricos\n",
        "\n",
        "**Integers (`int`):** Son números enteros, sin parte decimal.\n",
        "```python\n",
        "edad = 30  # Esto es un integer.\n",
        "```\n",
        "\n",
        "**Floats (`float`):** Son números reales, pueden tener una parte decimal.\n",
        "```python\n",
        "altura = 1.79  # Esto es un float.\n",
        "```\n",
        "\n",
        "#### Cálculo de BMI (Índice de Masa Corporal)\n",
        "\n",
        "Puedes usar variables para hacer cálculos. Por ejemplo, para calcular el BMI:\n",
        "```python\n",
        "bmi = peso / altura ** 2\n",
        "```\n",
        "\n",
        "#### Reproducibilidad\n",
        "\n",
        "La reproducibilidad es una de las grandes ventajas de usar variables. Si tienes un script que calcula el BMI y quieres calcular un nuevo BMI con un peso diferente, solo necesitas cambiar el valor de la variable `peso` y ejecutar el script de nuevo.\n",
        "\n",
        "#### Cadenas de Texto (Strings)\n",
        "\n",
        "**Strings (`str`):** Representan texto y pueden estar delimitados por comillas simples o dobles.\n",
        "```python\n",
        "nombre = \"Gabriela\"  # Esto es un string.\n",
        "```\n",
        "\n",
        "#### Valores Booleanos (Booleans)\n",
        "\n",
        "**Booleans (`bool`):** Solo pueden ser `True` (Verdadero) o `False` (Falso) y son a menudo el resultado de comparaciones o condiciones.\n",
        "```python\n",
        "esEstudiante = True  # Esto es un boolean.\n",
        "```\n",
        "\n",
        "#### Comprobando Tipos\n",
        "\n",
        "Puedes verificar el tipo de una variable usando la función `type()`:\n",
        "```python\n",
        "type(bmi)  # <class 'float'>\n",
        "```\n",
        "\n",
        "#### Comportamiento Dependiendo del Tipo\n",
        "\n",
        "El comportamiento de las operaciones en Python puede cambiar dependiendo del tipo de los datos con los que estás trabajando. Por ejemplo, la suma de dos `int` es una operación matemática, pero la \"suma\" de dos `str` concatena las cadenas.\n",
        "\n",
        "```python\n",
        "# Suma de integers\n",
        "2 + 3  # Resultado: 5\n",
        "\n",
        "# Concatenación de strings\n",
        "\"Hola\" + \"Mundo\"  # Resultado: \"HolaMundo\"\n",
        "```\n",
        "\n",
        "Con esta base, ya puedes empezar a experimentar con la creación de variables y explorar los tipos de datos en Python. En los ejercicios prácticos aprenderás aún más sobre cómo trabajar con estos conceptos."
      ],
      "metadata": {
        "id": "pevlT4DUXRL-"
      }
    },
    {
      "cell_type": "markdown",
      "source": [
        "## ¿Qué es una Variable en Python?\n",
        "\n",
        "Una variable en Python es un nombre simbólico que hace referencia a un espacio en la memoria del ordenador donde se puede almacenar información temporalmente. Esa información puede ser un número, un texto, una lista, un objeto, etc. Las variables en Python son dinámicas, lo que significa que no es necesario declarar su tipo de antemano y este puede cambiar durante la ejecución del programa.\n",
        "\n",
        "### Creación y Asignación de Variables\n",
        "\n",
        "Para crear una variable en Python, simplemente asignas un valor a un nombre:\n",
        "\n",
        "```python\n",
        "mi_variable = 10\n",
        "```\n",
        "\n",
        "Aquí, `mi_variable` es el nombre de la variable y `10` es el valor que se le asigna. A partir de este momento, `mi_variable` hace referencia al entero `10`.\n",
        "\n",
        "### Nombres de Variables\n",
        "\n",
        "Los nombres de las variables en Python pueden consistir en letras, números y guiones bajos (`_`), pero no pueden comenzar con un número. Por convención, se utilizan nombres en minúsculas y guiones bajos para separar palabras:\n",
        "\n",
        "```python\n",
        "nombre_usuario = \"Ana\"\n",
        "contador = 0\n",
        "precio_total = 19.95\n",
        "```\n",
        "\n",
        "### Tipado Dinámico\n",
        "\n",
        "Python es un lenguaje de tipado dinámico, lo que significa que el tipo de la variable se determina en tiempo de ejecución y no necesitas especificar el tipo de datos al declarar la variable. Además, el tipo de una variable puede cambiar si le asignas un valor de un tipo diferente:\n",
        "\n",
        "```python\n",
        "variable = 4       # Aquí 'variable' es de tipo int\n",
        "variable = \"Hola\"  # Ahora 'variable' es de tipo str\n",
        "```\n",
        "\n",
        "### Alcance de las Variables\n",
        "\n",
        "El alcance de una variable determina dónde es accesible la variable dentro de tu código. Las variables definidas fuera de todas las funciones se denominan variables globales y son accesibles desde cualquier parte del código. Las variables definidas dentro de una función son variables locales y sólo se pueden acceder dentro de esa función.\n",
        "\n",
        "### La Inmutabilidad de las Variables\n",
        "\n",
        "En realidad, las variables en Python son nombres que se refieren a objetos, y los objetos pueden ser mutables o inmutables. Por ejemplo, los objetos de tipo `int` y `str` son inmutables, lo que significa que no puedes cambiar el objeto al que hace referencia una variable, pero puedes hacer que la variable se refiera a un nuevo objeto:\n",
        "\n",
        "```python\n",
        "x = 10\n",
        "x = x + 1  # Ahora x se refiere a un nuevo objeto con valor 11\n",
        "```\n",
        "\n",
        "### Referencias a Objetos\n",
        "\n",
        "Una variable en Python es en realidad una referencia a un objeto en la memoria. Si tienes dos variables que hacen referencia al mismo objeto y cambias el objeto, el cambio se refleja en ambas variables:\n",
        "\n",
        "```python\n",
        "a = [1, 2, 3]\n",
        "b = a\n",
        "b.append(4)  # Modifica el objeto al que 'a' también hace referencia\n",
        "print(a)     # Imprime [1, 2, 3, 4]\n",
        "```\n",
        "\n",
        "### Variables y Recolección de Basura\n",
        "\n",
        "Python tiene un recolector de basura que se encarga de liberar la memoria cuando no hay referencias a un objeto. Cuando una variable sale de alcance o se le asigna un nuevo objeto, la referencia anterior se elimina, y si no quedan referencias al objeto viejo, este es eliminado por el recolector de basura.\n",
        "\n",
        "### Conclusión\n",
        "\n",
        "Las variables son fundamentales en cualquier programa de Python, ya que permiten almacenar datos que luego pueden ser modificados y manipulados. El uso eficiente y adecuado de las variables es esencial para escribir código claro, conciso y eficiente."
      ],
      "metadata": {
        "id": "tWBwK5n3nbFp"
      }
    },
    {
      "cell_type": "markdown",
      "source": [
        "\n",
        "### Ejemplo 1.5: Creación de una Variable Simple\n",
        "\n",
        "```python\n",
        "edad = 30\n",
        "```\n",
        "\n",
        "Aquí, `edad` es una variable que almacena el valor `30`. En términos de programación, la variable `edad` es una referencia a un espacio en la memoria del ordenador donde se almacena el número `30`.\n",
        "\n",
        "### Ejemplo 2: Asignación de un String a una Variable\n",
        "\n",
        "```python\n",
        "nombre = \"Alice\"\n",
        "```\n",
        "\n",
        "`nombre` es una variable que hace referencia a una secuencia de caracteres, `\"Alice\"`. En Python, el texto se maneja como un objeto `str` (string o cadena de caracteres).\n",
        "\n",
        "### Ejemplo 3: Tipado Dinámico en Variables\n",
        "\n",
        "```python\n",
        "x = 10        # x es inicialmente un entero (int)\n",
        "x = \"diez\"    # x ahora hace referencia a un string\n",
        "```\n",
        "\n",
        "El tipado dinámico de Python permite que `x` pueda referenciar primero un entero y después un string sin problemas.\n",
        "\n",
        "### Ejemplo 4: Variables como Referencias a Objetos\n",
        "\n",
        "```python\n",
        "lista1 = [1, 2, 3]\n",
        "lista2 = lista1\n",
        "lista2.append(4)\n",
        "```\n",
        "\n",
        "Aquí, `lista1` y `lista2` hacen referencia al mismo objeto en la memoria. Cuando cambiamos `lista2`, `lista1` también se ve afectada porque ambas variables apuntan al mismo objeto.\n",
        "\n",
        "### Ejemplo 5: Modificación de Variables a Través de Operadores\n",
        "\n",
        "```python\n",
        "contador = 0\n",
        "contador += 1  # Incrementa el valor de contador en 1\n",
        "```\n",
        "\n",
        "El operador `+=` modifica el valor al que hace referencia la variable `contador` sumándole `1`.\n",
        "\n",
        "### Ejemplo 6: Variables Inmutables\n",
        "\n",
        "```python\n",
        "mensaje = \"Hola\"\n",
        "mensaje += \", mundo!\"  # Concatena \", mundo!\" al mensaje original\n",
        "```\n",
        "\n",
        "Los strings son inmutables, lo que significa que no podemos cambiar el contenido del string original. En lugar de eso, se crea un nuevo string y `mensaje` hace referencia a este nuevo objeto.\n",
        "\n",
        "### Ejemplo 7: Alcance de las Variables\n",
        "\n",
        "```python\n",
        "def establecer_edad():\n",
        "    edad = 20  # edad es una variable local dentro de esta función\n",
        "\n",
        "establecer_edad()\n",
        "print(edad)  # Esto producirá un error porque edad no existe fuera de la función\n",
        "```\n",
        "\n",
        "La variable `edad` dentro de la función `establecer_edad()` no es accesible fuera de esa función.\n",
        "\n",
        "### Ejemplo 8: Variables Globales y Locales\n",
        "\n",
        "```python\n",
        "edad = 30  # Variable global\n",
        "\n",
        "def mostrar_edad():\n",
        "    local_edad = edad  # Accede a la variable global edad\n",
        "    return local_edad\n",
        "\n",
        "print(mostrar_edad())  # Imprime 30\n",
        "```\n",
        "\n",
        "Aquí, `edad` es una variable global, y `local_edad` es una variable local que toma su valor de `edad`.\n",
        "\n",
        "### Ejemplo 9: Variables y Listas\n",
        "\n",
        "```python\n",
        "numeros = [1, 2, 3]\n",
        "numeros[0] = 10  # Cambia el primer elemento de la lista\n",
        "```\n",
        "\n",
        "La variable `numeros` hace referencia a una lista, y podemos cambiar los elementos de la lista porque las listas son objetos mutables.\n",
        "\n",
        "### Ejemplo 10: Eliminación de Variables\n",
        "\n",
        "```python\n",
        "variable = 100\n",
        "del variable  # Elimina la referencia a la variable\n",
        "```\n",
        "\n",
        "El comando `del` elimina `variable`, liberando la referencia al objeto que contenía el valor `100`.\n",
        "\n",
        "Cada uno de estos ejemplos muestra aspectos diferentes de cómo se pueden utilizar las variables en Python para almacenar y manipular datos. Las variables son la base para trabajar con datos en cualquier programa y comprender cómo funcionan es esencial para la programación en Python."
      ],
      "metadata": {
        "id": "N_rTzX-8oCJi"
      }
    },
    {
      "cell_type": "markdown",
      "source": [
        "## 1.6 Explicación Detallada del Tipo de Dato `int` en Python\n",
        "\n",
        "El tipo de dato `int` en Python representa números enteros, es decir, números sin parte decimal. Puede ser positivo o negativo. A continuación, se presenta una explicación detallada de cómo se utiliza el tipo `int` en Python.\n",
        "\n",
        "### ¿Qué es un `int`?\n",
        "\n",
        "En Python, un `int` es uno de los tipos de datos primitivos que está diseñado para representar números enteros. Un número entero es cualquier número sin fracción o parte decimal, incluyendo números positivos, cero y números negativos.\n",
        "\n",
        "### Creación de Variables Tipo `int`\n",
        "\n",
        "Para crear una variable de tipo `int`, simplemente asigna un número entero a una variable:\n",
        "\n",
        "```python\n",
        "edad = 25\n",
        "numero_de_estrellas = 5000000\n",
        "temperatura = -273\n",
        "```\n",
        "\n",
        "En estos ejemplos, `edad`, `numero_de_estrellas`, y `temperatura` son todas variables del tipo `int`.\n",
        "\n",
        "### Operaciones con `int`\n",
        "\n",
        "Los enteros en Python pueden utilizarse con operadores aritméticos estándar como suma (`+`), resta (`-`), multiplicación (`*`), y división (`//` para división entera).\n",
        "\n",
        "```python\n",
        "# Suma\n",
        "resultado = 10 + 5  # Resultado es 15\n",
        "\n",
        "# Resta\n",
        "diferencia = 20 - 3  # Diferencia es 17\n",
        "\n",
        "# Multiplicación\n",
        "producto = 7 * 3  # Producto es 21\n",
        "\n",
        "# División entera\n",
        "cociente = 10 // 3  # Cociente es 3\n",
        "```\n",
        "\n",
        "### División y el Tipo `int`\n",
        "\n",
        "En Python, la división regular (`/`) siempre devuelve un flotante. Si deseas obtener el resultado de una división como un entero, debes utilizar la división entera (`//`):\n",
        "\n",
        "```python\n",
        "# División que produce un flotante\n",
        "division_flotante = 10 / 3  # Resultado es 3.3333...\n",
        "\n",
        "# División entera que produce un int\n",
        "division_entera = 10 // 3  # Resultado es 3\n",
        "```\n",
        "\n",
        "### Rango de `int`\n",
        "\n",
        "Python 3 soporta un rango ilimitado de enteros, lo que significa que no hay un límite superior para un valor `int` más allá de la cantidad de memoria disponible en tu sistema.\n",
        "\n",
        "### Conversión a `int`\n",
        "\n",
        "Puedes convertir otros tipos de datos a enteros utilizando la función `int()`:\n",
        "\n",
        "```python\n",
        "numero_flotante = 10.75\n",
        "numero_entero = int(numero_flotante)  # Convertirá 10.75 a 10\n",
        "\n",
        "texto_con_numero = \"123\"\n",
        "numero_entero_desde_texto = int(texto_con_numero)  # Convertirá el texto \"123\" a 123\n",
        "```\n",
        "\n",
        "### ¿Por Qué Usar `int`?\n",
        "\n",
        "Los números enteros se utilizan comúnmente para contar cosas que no pueden ser fraccionadas, como personas o artículos en una lista. Son fundamentales para la lógica de programación, bucles, y estructuras de datos como listas e índices.\n",
        "\n",
        "### Limitaciones de `int`\n",
        "\n",
        "A pesar de que `int` no tiene un límite en su valor, el uso de enteros muy grandes puede afectar el rendimiento de tu programa, ya que operar con ellos requiere más recursos computacionales.\n",
        "\n",
        "### Resumen\n",
        "\n",
        "El tipo de dato `int` es una de las herramientas básicas en la caja de herramientas de cualquier programador de Python. Permite la manipulación de números enteros con operaciones aritméticas y lógicas, facilitando la implementación de algoritmos matemáticos y la gestión de datos en estructuras de control y colecciones.\n",
        "\n",
        "Con esta explicación, deberías tener una comprensión sólida del tipo de dato `int` en Python y cómo utilizarlo en tus programas."
      ],
      "metadata": {
        "id": "M2IZgHq3m0Yk"
      }
    },
    {
      "cell_type": "markdown",
      "source": [
        "### ¿Existen los números decimales (floats) en las computadoras?\n",
        "En los ordenadores, todos los datos, incluidos los números en punto flotante (floats), se representan en última instancia como binarios. Un número en punto flotante no es una excepción a esta regla. Sin embargo, la forma en que los números en punto flotante se representan en binario es más compleja que la representación binaria de los enteros debido a su capacidad para representar una gama mucho más amplia de números, incluidos los muy pequeños y los muy grandes.\n",
        "\n",
        "La representación binaria de un float en la mayoría de los sistemas de computación modernos sigue el estándar IEEE 754. Este estándar especifica cómo se deben representar los números en punto flotante en binario para asegurar que los cálculos tengan resultados predecibles y consistentes en diferentes plataformas y lenguajes de programación.\n",
        "\n",
        "El estándar IEEE 754 para un número en punto flotante incluye tres componentes principales:\n",
        "\n",
        "1. **Signo**: Un único bit que indica si el número es positivo o negativo.\n",
        "2. **Exponente**: Una serie de bits que representa el exponente en una forma sesgada.\n",
        "3. **Mantisa (o fracción)**: Una serie de bits que representa los dígitos significativos del número.\n",
        "\n",
        "Cuando trabajas con floats en Python, no ves directamente su representación binaria. Python y otros lenguajes de programación de alto nivel abstraen esta complejidad para que puedas trabajar con números de punto flotante como si fueran decimales. Sin embargo, las operaciones subyacentes que la CPU realiza con estos números son todas binarias.\n",
        "\n",
        "Por ejemplo, cuando haces una suma de dos floats en Python, Python gestiona la abstracción de alto nivel, pero en el fondo, el procesador realiza la suma utilizando operaciones binarias que siguen el estándar IEEE 754.\n",
        "\n",
        "En resumen, los floats en Python (y en cualquier otro lenguaje de programación moderno) son una abstracción que permite a los programadores trabajar cómodamente con números reales. No obstante, debajo de esa abstracción, la representación y las operaciones son puramente binarias."
      ],
      "metadata": {
        "id": "SLK8CkCndSFb"
      }
    },
    {
      "cell_type": "markdown",
      "source": [
        "### ¿Por qué necesito diferentes tipos de datos para los números e.g. (int y float)\n",
        "\n",
        "En las computadoras, todos los datos se representan en forma binaria debido a su diseño fundamental basado en circuitos que tienen dos estados: encendido (1) y apagado (0). Esto incluye números, caracteres, imágenes, sonidos y cualquier otro tipo de datos que puedas imaginar.\n",
        "\n",
        "Los números decimales que utilizamos en la vida diaria (base 10) no se representan directamente en las computadoras. En su lugar, se utilizan representaciones binarias (base 2) para todos los cálculos y almacenamiento de datos.\n",
        "\n",
        "Sin embargo, para que los lenguajes de programación sean más accesibles y fáciles de usar para los humanos, proporcionan abstracciones que nos permiten trabajar con números como si fueran decimales. Por ejemplo, cuando escribes un número en punto flotante en Python:\n",
        "\n",
        "```python\n",
        "a = 3.14\n",
        "```\n",
        "\n",
        "Python maneja este número como si fuera un decimal, pero debajo de esta abstracción, el número se almacena en una representación binaria de punto flotante que sigue el estándar IEEE 754.\n",
        "\n",
        "La abstracción es clave en la programación de alto nivel. Nos permite no preocuparnos por los detalles de bajo nivel de cómo los datos son representados o manipulados a nivel de hardware. Esto hace que escribir programas sea mucho más sencillo y nos permite centrarnos en la lógica y las características de alto nivel de nuestros programas.\n",
        "\n",
        "La capacidad de tratar con números como si fueran decimales a pesar de su representación binaria subyacente es un ejemplo de cómo los lenguajes de programación de alto nivel como Python, Java, C#, entre otros, simplifican el proceso de programación y hacen que la computación sea más accesible para todos."
      ],
      "metadata": {
        "id": "CTPm_fGDe5QM"
      }
    },
    {
      "cell_type": "markdown",
      "source": [
        "### Entendiendo Floats e Integers en Python\n",
        "\n",
        "Las computadoras utilizan el sistema binario para representar datos, lo que significa que todo, desde texto hasta imágenes y números, se almacena como una serie de 0s y 1s. Los números que usamos en la programación y las matemáticas también deben representarse en este sistema binario.\n",
        "\n",
        "#### Integers\n",
        "\n",
        "**Integers** (o `int`) en Python representan números enteros, positivos o negativos, sin parte fraccionaria. Son precisos y pueden ser tan grandes como la memoria de tu computadora lo permita.\n",
        "\n",
        "En binario, los integers se representan de una manera bastante directa. Por ejemplo, el número decimal 5 se representa en binario como 101.\n",
        "\n",
        "#### Floats\n",
        "\n",
        "**Floats** (o `float`) en Python representan números reales; pueden tener una parte fraccionaria. Se llaman \"float\" porque usan un formato de punto flotante, que es una forma de representación científica que permite trabajar con un rango muy amplio de valores.\n",
        "\n",
        "En la representación de punto flotante, un número se divide en dos partes:\n",
        "\n",
        "1. La **mantisa**, que representa los dígitos significativos del número.\n",
        "2. El **exponente**, que escala la mantisa a la potencia correcta de la base (en binario, la base es 2).\n",
        "\n",
        "Un número en punto flotante se representa aproximadamente de la siguiente manera:\n",
        "\n",
        "$$\n",
        "\\text{valor} = \\text{mantisa} \\times 2^{\\text{exponente}}\n",
        "$$\n",
        "\n",
        "Esto es similar a la notación científica que se usa para números muy grandes o muy pequeños, por ejemplo, $ 6.02 \\times 10^{23} $ en notación decimal.\n",
        "\n",
        "#### ¿Por qué necesitamos ambos?\n",
        "\n",
        "**Precisión y Rango**\n",
        "\n",
        "- **Integers** son precisos y deben usarse cuando se necesita exactitud completa, como contar objetos.\n",
        "- **Floats** pueden representar números con fracciones, necesarios para mediciones o cálculos científicos.\n",
        "\n",
        "**Velocidad y Memoria**\n",
        "\n",
        "- Operar con **integers** es generalmente más rápido y consume menos memoria que con **floats**.\n",
        "- Los **floats** requieren más memoria y tiempo de procesamiento debido a su complejidad en la representación.\n",
        "\n",
        "#### Ejemplo en Python\n",
        "\n",
        "```python\n",
        "# Integer\n",
        "numero_entero = 10\n",
        "print(type(numero_entero))  # Salida: <class 'int'>\n",
        "\n",
        "# Float\n",
        "numero_decimal = 10.5\n",
        "print(type(numero_decimal))  # Salida: <class 'float'>\n",
        "```\n",
        "\n",
        "#### Binario en Acción\n",
        "\n",
        "En binario, un número **float** como 0.5 se representa como $ 1.0 \\times 2^{-1} $ porque $ 0.5 $ es $ \\frac{1}{2} $, o $ 2^{-1} $ en notación de exponente binario.\n",
        "\n",
        "#### En Resumen\n",
        "\n",
        "Integers y floats son fundamentales para la representación de números en programación. Cada tipo tiene su propósito y es importante elegir el tipo correcto según la precisidad y el rango que necesitas para tus cálculos. En Python, el manejo de estos tipos es directo, pero es útil entender la lógica subyacente para saber cuándo y cómo usarlos de manera efectiva."
      ],
      "metadata": {
        "id": "F4W-aM2Xb2IR"
      }
    },
    {
      "cell_type": "markdown",
      "source": [
        "### ¿Cómo se representa un número decimal en binario? (Opcional)\n",
        "\n",
        "Para convertir el número decimal 0.15625 a su representación binaria de punto flotante según el estándar IEEE 754 para precisión simple (32 bits), seguimos un proceso estructurado. La explicación y el procedimiento se detallarían de la siguiente manera:\n",
        "\n",
        "$$\n",
        "\\text{Paso 1: Convertir a fracción binaria}\n",
        "$$\n",
        "Primero convertimos la parte fraccionaria del número decimal a binario multiplicando por 2 y tomando la parte entera en cada paso:\n",
        "\n",
        "$$\n",
        "0.15625 \\times 2 = 0.3125 \\rightarrow 0 \\\\\n",
        "0.3125 \\times 2 = 0.625 \\rightarrow 0 \\\\\n",
        "0.625 \\times 2 = 1.25 \\rightarrow 1 \\\\\n",
        "0.25 \\times 2 = 0.5 \\rightarrow 0 \\\\\n",
        "0.5 \\times 2 = 1.0 \\rightarrow 1\n",
        "$$\n",
        "\n",
        "Por lo tanto, \\( 0.15625 \\) en binario es \\( 0.00101 \\).\n",
        "\n",
        "$$\n",
        "\\text{Paso 2: Normalizar la fracción binaria}\n",
        "$$\n",
        "Luego normalizamos esta fracción binaria desplazando el punto hasta después del primer 1 significativo:\n",
        "\n",
        "$$\n",
        "0.00101 \\rightarrow 1.01 \\times 2^{-3}\n",
        "$$\n",
        "\n",
        "El exponente de desplazamiento es -3.\n",
        "\n",
        "$$\n",
        "\\text{Paso 3: Encontrar el exponente sesgado}\n",
        "$$\n",
        "El estándar IEEE 754 utiliza un exponente sesgado para representar tanto exponentes positivos como negativos. Para precisión simple, el sesgo es de 127:\n",
        "\n",
        "$$\n",
        "\\text{Exponente sesgado} = \\text{Exponente} + \\text{Sesgo} = -3 + 127 = 124\n",
        "$$\n",
        "\n",
        "$$\n",
        "\\text{Paso 4: Construir la representación IEEE 754}\n",
        "$$\n",
        "La representación IEEE 754 consta de un bit de signo, seguido por 8 bits de exponente sesgado y 23 bits de la mantisa (sin el bit implícito):\n",
        "\n",
        "$$\n",
        "\\text{Signo: } 0 \\quad (\\text{porque el número es positivo})\n",
        "$$\n",
        "$$\n",
        "\\text{Exponente: } 01111100 \\quad (\\text{124 en binario})\n",
        "$$\n",
        "$$\n",
        "\\text{Mantisa: } 01000000000000000000000 \\quad (\\text{los primeros 23 bits de la fracción normalizada})\n",
        "$$\n",
        "\n",
        "Finalmente, la representación IEEE 754 para \\( 0.15625 \\) es:\n",
        "\n",
        "$$\n",
        "\\text{Signo} \\; | \\; \\text{Exponente} \\; | \\; \\text{Mantisa}\n",
        "$$\n",
        "$$\n",
        "0 \\; | \\; 01111100 \\; | \\; 01000000000000000000000\n",
        "$$\n",
        "\n",
        "$$\n",
        "\\text{En forma de número entero, esto se traduce a: } 1044381696\n",
        "$$\n",
        "\n",
        "La representación en LaTeX de todo el proceso sería:\n",
        "\n",
        "$$\n",
        "\\begin{align*}\n",
        "\\text{Decimal} & : 0.15625 \\\\\n",
        "\\text{Binario} & : 0.00101 \\\\\n",
        "\\text{Normalizado} & : 1.01 \\times 2^{-3} \\\\\n",
        "\\text{Exponente sesgado} & : 01111100 \\\\\n",
        "\\text{Mantisa} & : 01000000000000000000000 \\\\\n",
        "\\text{IEEE 754} & : 0 | 01111100 | 01000000000000000000000 \\\\\n",
        "\\end{align*}\n",
        "$$\n",
        "\n",
        "Esta representación detallada muestra cómo un número decimal se descompone y se reforma en el estándar de punto flotante IEEE 754, todo realizado con operaciones enteras en Python."
      ],
      "metadata": {
        "id": "6e52KQQ8dymz"
      }
    },
    {
      "cell_type": "code",
      "source": [
        "def float_to_ieee754(value):\n",
        "    # Step 1: Convert to binary fraction\n",
        "    fraction = value\n",
        "    binary_fraction = \"\"\n",
        "    while fraction > 0 and len(binary_fraction) <= 24:\n",
        "        fraction *= 2\n",
        "        if fraction >= 1:\n",
        "            binary_fraction += '1'\n",
        "            fraction -= 1\n",
        "        else:\n",
        "            binary_fraction += '0'\n",
        "\n",
        "    # Step 2: Normalize the binary number\n",
        "    exponent_shifts = binary_fraction.find('1') + 1\n",
        "    normalized_binary = binary_fraction[exponent_shifts:]\n",
        "\n",
        "    # Step 3: Find the biased exponent\n",
        "    biased_exponent = 127 - exponent_shifts  # Bias for 32-bit floats is 127\n",
        "\n",
        "    # Step 4: Construct the IEEE 754 representation\n",
        "    sign_bit = 0\n",
        "    exponent_bits = f\"{biased_exponent:08b}\"\n",
        "    significand_bits = normalized_binary[1:].ljust(23, '0')  # Pad the significand to 23 bits\n",
        "\n",
        "    # Combine the bits and convert to integer\n",
        "    ieee754_binary = f\"{sign_bit}{exponent_bits}{significand_bits}\"\n",
        "    ieee754_integer = int(ieee754_binary, 2)\n",
        "\n",
        "    # Return as a tuple for clarity\n",
        "    return ieee754_integer, ieee754_binary\n",
        "\n",
        "# Convert 0.15625 to its IEEE 754 representation again\n",
        "ieee754_integer, ieee754_binary = float_to_ieee754(0.15625)\n",
        "\n",
        "# Format the output to show the sign, exponent, and significand bits separately\n",
        "formatted_ieee754 = f\"Sign: {ieee754_binary[0]}, Exponent: {ieee754_binary[1:9]}, Significand: {ieee754_binary[9:]}\"\n",
        "formatted_ieee754, ieee754_integer\n"
      ],
      "metadata": {
        "colab": {
          "base_uri": "https://localhost:8080/"
        },
        "id": "kb17v8HwXS8K",
        "outputId": "eda2900d-5df4-404d-a86d-724c4ceab547"
      },
      "execution_count": null,
      "outputs": [
        {
          "output_type": "execute_result",
          "data": {
            "text/plain": [
              "('Sign: 0, Exponent: 01111100, Significand: 10000000000000000000000',\n",
              " 1044381696)"
            ]
          },
          "metadata": {},
          "execution_count": 31
        }
      ]
    },
    {
      "cell_type": "code",
      "source": [
        "# 3.14159 en binario\n",
        "_, binario = float_to_ieee754(3.14159)\n",
        "print(f\"3.14159 en binario es: {binario}\")"
      ],
      "metadata": {
        "colab": {
          "base_uri": "https://localhost:8080/"
        },
        "id": "WPc8Orupbe3R",
        "outputId": "56ce288b-72e2-4925-f907-21f3f530cc44"
      },
      "execution_count": null,
      "outputs": [
        {
          "output_type": "stream",
          "name": "stdout",
          "text": [
            "3.14159 en binario es: 00111111011111111111111111111111\n"
          ]
        }
      ]
    },
    {
      "cell_type": "code",
      "source": [],
      "metadata": {
        "id": "FOMZI9hNm1n9"
      },
      "execution_count": null,
      "outputs": []
    },
    {
      "cell_type": "markdown",
      "source": [
        "## 1.7 El Tipo de Dato `float` en Python\n",
        "\n",
        "En Python, el tipo de dato `float` representa los números de punto flotante, también conocidos como números reales. Los números de punto flotante son una manera de representar números racionales e irracionales que pueden tener decimales.\n",
        "\n",
        "#### Características de los `floats`:\n",
        "\n",
        "- **Representación de Decimales:** Los `floats` pueden contener números después del punto decimal. Por ejemplo, `3.14` o `2.71828`.\n",
        "- **Precisión:** Python utiliza 64 bits para almacenar un `float` en la mayoría de las plataformas modernas, siguiendo el estándar IEEE 754 para doble precisión. Sin embargo, esto también significa que la precisión es limitada, y puede haber problemas de redondeo.\n",
        "- **Notación Científica:** Los `floats` también se pueden expresar en notación científica. Por ejemplo, `1.5e2` representa `1.5 * 10^2` o `150.0`.\n",
        "\n",
        "#### Creación de `floats`:\n",
        "\n",
        "```python\n",
        "numero_pi = 3.14159  # Un float literal\n",
        "tipo_gravedad = float(\"9.81\")  # Casting desde una cadena de texto\n",
        "```\n",
        "\n",
        "#### Operaciones con `floats`:\n",
        "\n",
        "Los `floats` soportan todas las operaciones matemáticas estándar como suma (`+`), resta (`-`), multiplicación (`*`), división (`/`), y otras más avanzadas como la potenciación (`**`) y la raíz cuadrada (usando `math.sqrt()`).\n",
        "\n",
        "#### Ejemplo de operaciones:\n",
        "\n",
        "```python\n",
        "a = 5.5\n",
        "b = 2.2\n",
        "\n",
        "# Suma\n",
        "resultado_suma = a + b  # 7.7\n",
        "\n",
        "# División\n",
        "resultado_division = a / b  # 2.5\n",
        "```\n",
        "\n",
        "#### Precisión y Problemas de Redondeo:\n",
        "\n",
        "```python\n",
        "sumar_decimal = 0.1 + 0.2  # No es exactamente 0.3 debido a la precisión del punto flotante\n",
        "```\n",
        "\n",
        "#### Limitaciones:\n",
        "\n",
        "- Los `floats` no son infinitamente precisos. Debido a la forma en que se almacenan en la memoria, algunos números pueden no tener una representación exacta.\n",
        "- Operaciones matemáticas con `floats` pueden llevar a errores de redondeo acumulativos.\n",
        "\n",
        "#### Cómo Manejar la Precisión:\n",
        "\n",
        "Para manejar la precisión en cálculos financieros o cuando la precisión es crítica, se puede utilizar el módulo `decimal` que ofrece una mayor precisión con un rendimiento ligeramente menor.\n",
        "\n",
        "#### Ejemplo usando `decimal`:\n",
        "\n",
        "```python\n",
        "from decimal import Decimal\n",
        "\n",
        "# Mayor precisión que con float\n",
        "resultado_preciso = Decimal('0.1') + Decimal('0.2')  # Exactamente 0.3\n",
        "```\n",
        "\n",
        "#### Conversión y Tipos Mixtos:\n",
        "\n",
        "- Al realizar operaciones con `int` y `float`, el resultado será un `float`.\n",
        "- Se puede convertir un `float` en un `int` (lo que corta los decimales, no redondea).\n",
        "\n",
        "#### Ejemplo de conversión:\n",
        "\n",
        "```python\n",
        "entero = int(10.9)  # Será 10, no 11\n",
        "```\n",
        "\n",
        "#### Infinito y NaN:\n",
        "\n",
        "- Python puede representar el infinito como `float('inf')`.\n",
        "- NaN (Not a Number) se representa como `float('nan')`.\n",
        "\n",
        "#### Conclusión:\n",
        "\n",
        "El tipo de dato `float` es esencial para realizar cálculos con decimales en Python. Su uso es directo y flexible, pero es importante tener en cuenta las limitaciones de precisión al realizar operaciones matemáticas complejas o al comparar valores de punto flotante."
      ],
      "metadata": {
        "id": "Ee9w-T-4UWw1"
      }
    },
    {
      "cell_type": "markdown",
      "source": [
        "### 1.7.1 Ejemplos del tipo de dato `float`\n",
        "Aquí tienes 10 ejemplos explicados que ayudarán a alguien que está comenzando a entender en profundidad el concepto de `float` en Python:\n",
        "\n",
        "1. **Creación de un `float`:**\n",
        "   ```python\n",
        "   # Ejemplo 1: Crear un número flotante directamente\n",
        "   temperatura = 36.6\n",
        "   # Esto es un número flotante que representa la temperatura corporal en grados Celsius.\n",
        "   ```\n",
        "\n",
        "2. **Conversión a `float`:**\n",
        "   ```python\n",
        "   # Ejemplo 2: Convertir una cadena de caracteres a un número flotante\n",
        "   precio = \"19.99\"\n",
        "   precio_float = float(precio)\n",
        "   # La cadena \"19.99\" ahora es un número flotante 19.99.\n",
        "   ```\n",
        "\n",
        "3. **Suma de `floats`:**\n",
        "   ```python\n",
        "   # Ejemplo 3: Sumar dos números flotantes\n",
        "   resultado = 0.1 + 0.2\n",
        "   # Esto da como resultado 0.3, aunque debido a la precisión podría no ser exactamente 0.3.\n",
        "   ```\n",
        "\n",
        "4. **Problemas de precisión:**\n",
        "   ```python\n",
        "   # Ejemplo 4: Problemas de precisión con números flotantes\n",
        "   suma = 0.1 + 0.2\n",
        "   print(suma == 0.3)  # Esto imprime False debido a problemas de precisión.\n",
        "   ```\n",
        "\n",
        "5. **Uso de la librería `decimal`:**\n",
        "   ```python\n",
        "   # Ejemplo 5: Usar la librería Decimal para precisión\n",
        "   from decimal import Decimal\n",
        "   suma_precisa = Decimal('0.1') + Decimal('0.2')\n",
        "   print(suma_precisa == Decimal('0.3'))  # Esto imprime True.\n",
        "   ```\n",
        "\n",
        "6. **División con `floats`:**\n",
        "   ```python\n",
        "   # Ejemplo 6: División que resulta en un número flotante\n",
        "   division = 3 / 2\n",
        "   # Esto dará como resultado 1.5, un número flotante.\n",
        "   ```\n",
        "\n",
        "7. **Conversión de `float` a `int`:**\n",
        "   ```python\n",
        "   # Ejemplo 7: Convertir un número flotante a entero\n",
        "   numero_flotante = 7.75\n",
        "   numero_entero = int(numero_flotante)\n",
        "   # Esto dará como resultado 7, porque la conversión a entero no redondea, solo corta la parte decimal.\n",
        "   ```\n",
        "\n",
        "8. **Infinito y NaN:**\n",
        "   ```python\n",
        "   # Ejemplo 8: Infinito y NaN en flotantes\n",
        "   infinito = float('inf')\n",
        "   no_es_un_numero = float('nan')\n",
        "   # Python puede representar valores especiales como infinito y \"No es un Número\" (NaN).\n",
        "   ```\n",
        "\n",
        "9. **Comparación de `floats`:**\n",
        "   ```python\n",
        "   # Ejemplo 9: Comparar números flotantes con un margen de error\n",
        "   numero1 = 0.1 * 3\n",
        "   numero2 = 0.3\n",
        "   margen_de_error = 1e-10\n",
        "   print(abs(numero1 - numero2) < margen_de_error)  # Esto imprime True.\n",
        "   # abs() da el valor absoluto, y esto verifica si los dos números son \"casi\" iguales.\n",
        "   ```\n",
        "\n",
        "10. **Operaciones matemáticas con `floats`:**\n",
        "    ```python\n",
        "    # Ejemplo 10: Operaciones matemáticas con flotantes\n",
        "    import math\n",
        "    raiz_cuadrada = math.sqrt(25.0)  # Esto dará como resultado 5.0.\n",
        "    potencia = math.pow(2.0, 3.0)    # Esto dará como resultado 8.0.\n",
        "    # La librería math permite realizar operaciones matemáticas complejas con flotantes.\n",
        "    ```\n",
        "Estos ejemplos cubren la creación y manipulación básica de `floats` en Python, la conversión entre tipos, el manejo de la precisión y la representación de números especiales. A través de estos ejercicios, un principiante puede comenzar a entender cómo trabajar con números flotantes y las consideraciones especiales que deben tenerse en cuenta."
      ],
      "metadata": {
        "id": "3cSJu5tqUluM"
      }
    },
    {
      "cell_type": "markdown",
      "source": [
        "### 1.7.2 Ejercicios del tipo de dato `float`"
      ],
      "metadata": {
        "id": "OvyWIqHmVJxc"
      }
    },
    {
      "cell_type": "code",
      "source": [
        "# Ejercicio 1 - Suma de Flotantes:\n",
        "# Suma 0.1, 0.2 y 0.3 y verifica si la suma es igual a 0.6. Investiga y escribe una breve explicación sobre el resultado obtenido.\n"
      ],
      "metadata": {
        "id": "-7JXc-MOUb3b"
      },
      "execution_count": null,
      "outputs": []
    },
    {
      "cell_type": "code",
      "source": [
        "# Ejercicio 2 - Conversión de Tipo:\n",
        "# Convierte la cadena \"123.456\" en un float y demuestra con un ejemplo cómo convertiría ese flotante de nuevo en una cadena con dos decimales.\n"
      ],
      "metadata": {
        "id": "65wN-RQcVRfb"
      },
      "execution_count": null,
      "outputs": []
    },
    {
      "cell_type": "code",
      "source": [
        "# Ejercicio 3 - Redondeo de Flotantes:\n",
        "# Redondea el número 3.14159 a tres decimales utilizando la función round() y explica cómo funciona el redondeo en Python.\n"
      ],
      "metadata": {
        "id": "q-XA9Z5KVUJV"
      },
      "execution_count": null,
      "outputs": []
    },
    {
      "cell_type": "code",
      "source": [
        "# Ejercicio 4 -Trabajo con la Biblioteca Decimal:\n",
        "# Utiliza la biblioteca decimal para sumar 0.1 y 0.2. Compara el resultado con la suma de 0.1 y 0.2 utilizando el tipo float normal.\n"
      ],
      "metadata": {
        "id": "hAhzWg5jVVvS"
      },
      "execution_count": null,
      "outputs": []
    },
    {
      "cell_type": "code",
      "source": [
        "# Ejercicio 5 - División y Tipo de Resultado:\n",
        "# Realiza la división 7 / 3 y explica por qué el resultado es un float, incluso cuando ambos números son enteros.\n"
      ],
      "metadata": {
        "id": "o2gPpA8sVYSx"
      },
      "execution_count": null,
      "outputs": []
    },
    {
      "cell_type": "code",
      "source": [
        "# Ejercicio 6 - Infinitos y NaN:\n",
        "# Crea dos variables, una representando el infinito y otra representando un valor no numérico (NaN). Realiza operaciones aritméticas con ellas y observa el comportamiento.\n"
      ],
      "metadata": {
        "id": "Ckq49jIhVab3"
      },
      "execution_count": null,
      "outputs": []
    },
    {
      "cell_type": "code",
      "source": [
        "# Ejercicio 7 -Comparaciones con Margen de Error:\n",
        "# Escribe un código que compare si 0.1 * 3 es igual a 0.3 con un margen de error de 0.00001. Explica por qué es importante este margen de error al comparar flotantes.\n"
      ],
      "metadata": {
        "id": "smI5Y_uPVeLu"
      },
      "execution_count": null,
      "outputs": []
    },
    {
      "cell_type": "code",
      "source": [
        "# Ejercicio 8 - Funciones Matemáticas:\n",
        "# Calcula la raíz cuadrada de 16.0 y el logaritmo base 10 de 1000.0 usando la biblioteca math. Verifica los resultados convirtiéndolos a enteros.\n"
      ],
      "metadata": {
        "id": "dkSY-Tb3VgDk"
      },
      "execution_count": null,
      "outputs": []
    },
    {
      "cell_type": "code",
      "source": [
        "# Ejercicio 9 - Conversión entre Tipos Numéricos:\n",
        "# Convierte 5.0 en un int y luego ese int de nuevo en un float. Explica qué ocurre con la información durante la conversión de float a int.\n"
      ],
      "metadata": {
        "id": "6jOaon_nVh45"
      },
      "execution_count": null,
      "outputs": []
    },
    {
      "cell_type": "markdown",
      "source": [
        "## 1.8 El tipo de dato `string`\n",
        "\n",
        "# Trabajando con Cadenas de Texto (Strings) en Python\n",
        "\n",
        "Las cadenas de texto, conocidas como _strings_ en el mundo de la programación, son secuencias de caracteres utilizadas para almacenar y manipular texto. En Python, las strings son inmutables, lo que significa que una vez que se crea una string, no se puede modificar directamente su contenido. A continuación, exploraremos el tipo de dato `string` en Python a profundidad.\n",
        "\n",
        "## Creación de Strings\n",
        "\n",
        "Para crear una string en Python, puedes encerrar tu texto entre comillas simples (`'...'`) o dobles (`\"...\"`).\n",
        "\n",
        "```python\n",
        "mensaje = \"¡Hola, mundo!\"\n",
        "saludo = 'Bienvenidos a Python.'\n",
        "```\n",
        "\n",
        "Puedes usar tres comillas dobles (`\"\"\"...\"\"\"`) o simples (`'''...'''`) para strings que ocupen múltiples líneas.\n",
        "\n",
        "```python\n",
        "poema = \"\"\"Roses are red,\n",
        "Violets are blue,\n",
        "Python is awesome,\n",
        "And so are you.\"\"\"\n",
        "```\n",
        "\n",
        "## Acceso a Caracteres y Substrings\n",
        "\n",
        "Puedes acceder a caracteres individuales de una string mediante el uso de corchetes `[]` junto con un índice, empezando desde cero.\n",
        "\n",
        "```python\n",
        "letra = mensaje[7]  # 'm'\n",
        "```\n",
        "\n",
        "También puedes acceder a un rango de caracteres usando la notación de rebanada (`slice`).\n",
        "\n",
        "```python\n",
        "palabra = mensaje[0:5]  # '¡Hola'\n",
        "```\n",
        "\n",
        "## Métodos Comunes de Strings\n",
        "\n",
        "Python ofrece una variedad de métodos que puedes usar para trabajar con strings. Aquí hay algunos ejemplos:\n",
        "\n",
        "- `upper()`: Convierte todos los caracteres de la string a mayúsculas.\n",
        "- `lower()`: Convierte todos los caracteres de la string a minúsculas.\n",
        "- `strip()`: Elimina espacios en blanco al principio y al final de la string.\n",
        "- `replace(old, new)`: Reemplaza todas las ocurrencias de `old` con `new`.\n",
        "- `find(sub)`: Devuelve el índice más bajo en la string donde se encuentra `sub`.\n",
        "\n",
        "```python\n",
        "mensaje_mayusculas = mensaje.upper()  # '¡HOLA, MUNDO!'\n",
        "```\n",
        "\n",
        "## Concatenación y Formateo de Strings\n",
        "\n",
        "Puedes unir strings usando el operador `+` o el método `join()` para concatenar una lista de strings.\n",
        "\n",
        "```python\n",
        "nombre_completo = \"John\" + \" \" + \"Doe\"\n",
        "```\n",
        "\n",
        "Para un formateo más avanzado, puedes usar el método `format()` o las f-strings (introducidas en Python 3.6).\n",
        "\n",
        "```python\n",
        "nombre = \"Jane\"\n",
        "saludo_personalizado = f\"Hola, {nombre}!\"  # 'Hola, Jane!'\n",
        "```\n",
        "\n",
        "## Inmutabilidad de Strings\n",
        "\n",
        "Recuerda que las strings son inmutables. Esto significa que si intentas cambiar un carácter directamente, obtendrás un error.\n",
        "\n",
        "```python\n",
        "mensaje[0] = \"h\"  # TypeError: 'str' object does not support item assignment\n",
        "```\n",
        "\n",
        "Para \"modificar\" una string, debes crear una nueva con los cambios deseados.\n",
        "\n",
        "## Escape de Caracteres\n",
        "\n",
        "En ocasiones, necesitas incluir caracteres especiales en tus strings, como comillas o saltos de línea. Para esto, usas caracteres de escape con una barra invertida (`\\`).\n",
        "\n",
        "```python\n",
        "dialogo = \"Él dijo: \\\"Esto es asombroso.\\\"\"\n",
        "nueva_linea = \"Primera línea\\nSegunda línea\"\n",
        "```\n",
        "\n",
        "## Resumen\n",
        "\n",
        "Las strings son uno de los tipos de datos más utilizados en Python y son extremadamente versátiles. Puedes manipular texto, acceder a información específica, formatear strings de manera dinámica y mucho más. Conocer cómo trabajar con strings es fundamental para cualquier tarea de programación que involucre procesamiento de texto."
      ],
      "metadata": {
        "id": "vB-PLzEjWAjB"
      }
    },
    {
      "cell_type": "markdown",
      "source": [
        "### 1.8.1. Ejemplos del uso de strings\n",
        "\n",
        "Aquí tienes 10 ejemplos para entender mejor el manejo de strings en Python, incluyendo operaciones comunes y algunos métodos útiles:\n",
        "\n",
        "### Ejemplo 1: Crear y Acceder a Strings\n",
        "```python\n",
        "# Crear una string\n",
        "frase = \"¡Aprender Python es divertido!\"\n",
        "\n",
        "# Acceder al primer carácter\n",
        "primer_caracter = frase[0]\n",
        "\n",
        "# Acceder al último carácter\n",
        "ultimo_caracter = frase[-1]\n",
        "```\n",
        "\n",
        "### Ejemplo 2: Slicing de Strings\n",
        "```python\n",
        "# Obtener los primeros cinco caracteres\n",
        "primeros_cinco = frase[:5]\n",
        "\n",
        "# Obtener la palabra \"Python\"\n",
        "palabra_python = frase[9:15]\n",
        "```\n",
        "\n",
        "### Ejemplo 3: Métodos para Cambiar Mayúsculas y Minúsculas\n",
        "```python\n",
        "# Convertir a mayúsculas\n",
        "frase_mayus = frase.upper()\n",
        "\n",
        "# Convertir a minúsculas\n",
        "frase_minus = frase.lower()\n",
        "```\n",
        "\n",
        "### Ejemplo 4: Uso de `strip()`, `lstrip()` y `rstrip()`\n",
        "```python\n",
        "# String con espacios adicionales\n",
        "espacios = \"   Python  \"\n",
        "\n",
        "# Eliminar espacios al principio y al final\n",
        "limpio = espacios.strip()\n",
        "\n",
        "# Eliminar espacios al inicio\n",
        "solo_inicio = espacios.lstrip()\n",
        "\n",
        "# Eliminar espacios al final\n",
        "solo_final = espacios.rstrip()\n",
        "```\n",
        "\n",
        "### Ejemplo 5: Reemplazo y División de Strings\n",
        "```python\n",
        "# Reemplazar una palabra\n",
        "frase_reemplazada = frase.replace(\"divertido\", \"increíble\")\n",
        "\n",
        "# Dividir una string en una lista de palabras\n",
        "lista_palabras = frase.split()\n",
        "```\n",
        "\n",
        "### Ejemplo 6: Concatenación de Strings\n",
        "```python\n",
        "# Concatenar dos strings\n",
        "saludo = \"Hola\"\n",
        "nombre = \"Mundo\"\n",
        "saludo_completo = saludo + \", \" + nombre + \"!\"\n",
        "```\n",
        "\n",
        "### Ejemplo 7: Formateo de Strings con `format()`\n",
        "```python\n",
        "# Usar format() para insertar variables en una string\n",
        "temperatura = 20\n",
        "mensaje_temperatura = \"La temperatura actual es de {} grados Celsius.\".format(temperatura)\n",
        "```\n",
        "\n",
        "### Ejemplo 8: Formateo de Strings con f-strings\n",
        "```python\n",
        "# Usar f-strings para una sintaxis más clara\n",
        "nombre = \"Ana\"\n",
        "mensaje = f\"¡Bienvenida, {nombre}!\"\n",
        "```\n",
        "\n",
        "### Ejemplo 9: Uso de Caracteres de Escape\n",
        "```python\n",
        "# Incluir comillas dobles en una string\n",
        "dialogo = \"Él dijo: \\\"Python es mi lenguaje favorito.\\\"\"\n",
        "\n",
        "# Usar un salto de línea\n",
        "dos_lineas = \"Primera línea\\nSegunda línea\"\n",
        "```\n",
        "\n",
        "### Ejemplo 10: Métodos de Búsqueda en Strings\n",
        "```python\n",
        "# Buscar la posición de una subcadena\n",
        "posicion = frase.find(\"Python\")\n",
        "\n",
        "# Verificar si la string termina con una palabra específica\n",
        "termina_con = frase.endswith(\"divertido!\")\n",
        "```\n",
        "\n",
        "Estos ejemplos cubren varios aspectos fundamentales del trabajo con strings en Python, desde la creación y acceso hasta la modificación y formateo de las mismas. Practicar con estos ejemplos te ayudará a obtener una comprensión más profunda de cómo manipular texto en Python."
      ],
      "metadata": {
        "id": "cejejTfXW2ag"
      }
    },
    {
      "cell_type": "markdown",
      "source": [
        "### 1.8.2 Ejercicios con strings"
      ],
      "metadata": {
        "id": "CqsKD_wGXaw9"
      }
    },
    {
      "cell_type": "code",
      "source": [
        "# Ejercicio 1\n",
        "# Crea una string que contenga tu nombre completo y accede al primer y al último carácter de tu nombre.\n"
      ],
      "metadata": {
        "id": "RMZK-9LFVlZm"
      },
      "execution_count": null,
      "outputs": []
    },
    {
      "cell_type": "code",
      "source": [
        "# Ejercicio 2\n",
        "# Dada la string texto = \"Explorando Python\", encuentra el tercer y el penúltimo carácter.\n"
      ],
      "metadata": {
        "id": "2lb1LhADXgtq"
      },
      "execution_count": null,
      "outputs": []
    },
    {
      "cell_type": "code",
      "source": [
        "# Ejercicio 3\n",
        "# Crea una string que represente tu cita favorita y accede al carácter central (si la longitud de la string es impar).\n"
      ],
      "metadata": {
        "id": "mH8_c7n4Xi-O"
      },
      "execution_count": null,
      "outputs": []
    },
    {
      "cell_type": "code",
      "source": [
        "# Ejercicio 4\n",
        "# Dada la string s = \"Desarrollo con Python\", utiliza el slicing para acceder a la palabra \"con\".\n"
      ],
      "metadata": {
        "id": "D4IX5GGJXk3v"
      },
      "execution_count": null,
      "outputs": []
    },
    {
      "cell_type": "code",
      "source": [
        "# Ejercicio 5\n",
        "# Dado el string codigo = \"2A3m4i5g6o7s8\", imprime solo los caracteres que representan letras y omite los números.\n",
        "codigo = \"2A3m4i5g6o7s8\"\n",
        "print(codigo[1],codigo[3],codigo[5],codigo[7],codigo[9],codigo[11])"
      ],
      "metadata": {
        "colab": {
          "base_uri": "https://localhost:8080/"
        },
        "id": "QUnaoH5QYW1R",
        "outputId": "d13957f2-d152-447a-f8fc-9929d4d3cd96"
      },
      "execution_count": null,
      "outputs": [
        {
          "output_type": "stream",
          "name": "stdout",
          "text": [
            "A m i g o s\n"
          ]
        }
      ]
    },
    {
      "cell_type": "code",
      "source": [
        "# Ejercicio 6\n",
        "# Extrae y muestra solo los dígitos del string mensaje = \"S4o5y6 7u8n9 mensaje s3c4r5e6t7o\".\n",
        "# [1,3,5,7,10,12,14,16,18]\n",
        "mensaje = \"S4o5y6 7u8n9 mensaje s3c4r5e6t7o\"\n"
      ],
      "metadata": {
        "id": "qTW4-xuQY1DW"
      },
      "execution_count": null,
      "outputs": []
    },
    {
      "cell_type": "code",
      "source": [
        "# Ejercicio 7\n",
        "# Dado el string secuencia = \"a1b2c3d4e5f6\", imprime solo los caracteres que están en las posiciones pares.\n",
        "secuencia = \"a1b2c3d4e5f6\"\n"
      ],
      "metadata": {
        "id": "2_TqY-KoZQ9x"
      },
      "execution_count": null,
      "outputs": []
    },
    {
      "cell_type": "code",
      "source": [
        "# Ejercicio 8\n",
        "# Del string criptico = \"p1y2t3h4o5n6 es7 g8e9n10i11a12l\", extrae solo los números y concaténalos para formar una string de dígitos.\n",
        "# [1,3,5,7,9,11,13,15,17,19,21]\n",
        "criptico = \"p1y2t3h4o5n6 es7 g8e9n10i11a12l\"\n"
      ],
      "metadata": {
        "id": "ep-BecNyZWKj"
      },
      "execution_count": null,
      "outputs": []
    },
    {
      "cell_type": "code",
      "source": [
        "saludo = \"Hola, ¿cómo estás?\"\n",
        "# Usa slicing para extraer \"Hola\"\n"
      ],
      "metadata": {
        "id": "S4dYJbBdZ6M3"
      },
      "execution_count": null,
      "outputs": []
    },
    {
      "cell_type": "code",
      "source": [
        "mix = \"A1B2C3D4\"\n",
        "# Usa slicing para obtener \"1234\"\n"
      ],
      "metadata": {
        "id": "NSi1e-oUa0VB"
      },
      "execution_count": null,
      "outputs": []
    },
    {
      "cell_type": "code",
      "source": [
        "nombre = \"Kenia\"\n",
        "# Usa slicing para escribir tu nombre al revés\n"
      ],
      "metadata": {
        "id": "KokxRVFQa1u7"
      },
      "execution_count": null,
      "outputs": []
    },
    {
      "cell_type": "code",
      "source": [
        "url = \"https://www.ejemplo.com\"\n",
        "# Usa slicing para obtener \"htp:/ww.jmlo.o\"\n"
      ],
      "metadata": {
        "id": "18jJmGFza4p2"
      },
      "execution_count": null,
      "outputs": []
    },
    {
      "cell_type": "code",
      "source": [
        "texto = \"Es un día soleado\"\n",
        "# Usa slicing para obtener \"un día\"\n"
      ],
      "metadata": {
        "id": "AeTi5v_5a7ZP"
      },
      "execution_count": null,
      "outputs": []
    },
    {
      "cell_type": "code",
      "source": [
        "email = \"<correo@ejemplo.com>\"\n",
        "# Usa slicing para obtener \"correo@ejemplo.com\"\n"
      ],
      "metadata": {
        "id": "ZwzPBLepa9N5"
      },
      "execution_count": null,
      "outputs": []
    },
    {
      "cell_type": "code",
      "source": [
        "parte1 = \"inter\"\n",
        "parte2 = \"nacional\"\n",
        "# Usa slicing para formar la palabra \"internacional\"\n"
      ],
      "metadata": {
        "id": "EgON6M4ea-_M"
      },
      "execution_count": null,
      "outputs": []
    },
    {
      "cell_type": "code",
      "source": [
        "timestamp = \"2023-11-02 09:00:00\"\n",
        "# Usa slicing para obtener la fecha \"2023-11-02\"\n"
      ],
      "metadata": {
        "id": "Bd8Lx2erbApO"
      },
      "execution_count": null,
      "outputs": []
    },
    {
      "cell_type": "code",
      "source": [
        "correo = \"usuario@dominio.com\"\n",
        "# Usa slicing para obtener \"usuario\"\n"
      ],
      "metadata": {
        "id": "bGhOWbkybCFk"
      },
      "execution_count": null,
      "outputs": []
    },
    {
      "cell_type": "code",
      "source": [
        "# Selecciona los dos primeros caracteres que representan el grupo etilo.\n",
        "smiles1 = \"CCO\" # Ethanol\n"
      ],
      "metadata": {
        "id": "rJls0fpobk8E"
      },
      "execution_count": null,
      "outputs": []
    },
    {
      "cell_type": "code",
      "source": [
        "# Etanol\n",
        "smiles1 = \"CCO\"\n",
        "# Selecciona los dos primeros caracteres que representan el grupo etilo.\n"
      ],
      "metadata": {
        "id": "W4bjI0HIcI-J"
      },
      "execution_count": null,
      "outputs": []
    },
    {
      "cell_type": "code",
      "source": [
        "# Ácido acético\n",
        "smiles2 = \"CC(=O)O\"\n",
        "# Selecciona el grupo carbonilo: =O\n"
      ],
      "metadata": {
        "id": "MdftXIlWcOlM"
      },
      "execution_count": null,
      "outputs": []
    },
    {
      "cell_type": "code",
      "source": [
        "# Ciclohexano\n",
        "smiles3 = \"C1CCCCC1\"\n",
        "# Selecciona una porción de la estructura del anillo: 1CCCC\n"
      ],
      "metadata": {
        "id": "6huP77CYcZ8e"
      },
      "execution_count": null,
      "outputs": []
    },
    {
      "cell_type": "code",
      "source": [
        "# Benceno\n",
        "smiles4 = \"C1=CC=CC=C1\"\n",
        "# Selecciona caracteres alternos para mostrar los enlaces dobles alternados: C=CC=1\n"
      ],
      "metadata": {
        "id": "cJo8-wybcgkJ"
      },
      "execution_count": null,
      "outputs": []
    },
    {
      "cell_type": "code",
      "source": [
        "# Cloruro de amonio\n",
        "smiles5 = \"[NH4+].[Cl-]\"\n",
        "# Separa el catión y el anión: ['[NH4+]', '[Cl-]']\n"
      ],
      "metadata": {
        "id": "41fhhgGuch6J"
      },
      "execution_count": null,
      "outputs": []
    },
    {
      "cell_type": "code",
      "source": [
        "# Alanina\n",
        "smiles6 = \"C[C@H](N)C(=O)O\"\n",
        "# Selecciona una parte de la cadena lateral y el grupo amino: C@H\n"
      ],
      "metadata": {
        "id": "LiKKFxFycnzo"
      },
      "execution_count": null,
      "outputs": []
    },
    {
      "cell_type": "code",
      "source": [
        "# Acetato de etilo\n",
        "smiles7 = \"CCOC(=O)C\"\n",
        "# Selecciona desde el grupo carbonilo hasta el final: (=O)C\n"
      ],
      "metadata": {
        "id": "AmP3N_jsctwC"
      },
      "execution_count": null,
      "outputs": []
    },
    {
      "cell_type": "code",
      "source": [
        "# Piperidina\n",
        "smiles8 = \"C1CNCCN1\"\n",
        "# Selecciona el interior del anillo: 1CNCCN\n"
      ],
      "metadata": {
        "id": "7vhbzvbGcze2"
      },
      "execution_count": null,
      "outputs": []
    },
    {
      "cell_type": "code",
      "source": [
        "# Etilbenceno\n",
        "smiles9 = \"CCc1ccccc1\"\n",
        "# Selecciona el anillo de benceno unido al grupo etilo: c1ccccc1\n"
      ],
      "metadata": {
        "id": "Sf8MG8cXc105"
      },
      "execution_count": null,
      "outputs": []
    },
    {
      "cell_type": "code",
      "source": [
        "# Ácido benzoico\n",
        "smiles10 = \"O=C(O)c1ccccc1\"\n",
        "# Selecciona el anillo de benceno en el ácido benzoico: 1ccccc1\n"
      ],
      "metadata": {
        "id": "8rd8ssqsc5fY"
      },
      "execution_count": null,
      "outputs": []
    },
    {
      "cell_type": "code",
      "source": [
        "# Eliminar espacios en blanco:\n",
        "# String original: \" C6H12 \"\n",
        "string_original = \" C6H12 \"\n"
      ],
      "metadata": {
        "id": "tKUEbBW5dp3L"
      },
      "execution_count": null,
      "outputs": []
    },
    {
      "cell_type": "code",
      "source": [
        "# Convertir toda la cadena de SMILES a mayúsculas para estandarizar\n",
        "smiles = \"c6h12\"\n"
      ],
      "metadata": {
        "id": "yB0LEA9LdynU"
      },
      "execution_count": null,
      "outputs": []
    },
    {
      "cell_type": "code",
      "source": [
        "# Reemplazar guiones en la cadena de SMILES\n",
        "smiles = \"C6-H12\"\n"
      ],
      "metadata": {
        "id": "_sh8ou-Td_6r"
      },
      "execution_count": null,
      "outputs": []
    },
    {
      "cell_type": "code",
      "source": [
        "# Separar la notación SMILES del nombre común de la molécula\n",
        "compound = \"CC(=O)OC1=CC=CC=C1C(=O)O aspirin\"\n"
      ],
      "metadata": {
        "id": "4c0JioTseA42"
      },
      "execution_count": null,
      "outputs": []
    },
    {
      "cell_type": "code",
      "source": [
        "# Eliminar caracteres no alfabéticos del nombre de la molécula\n",
        "compound_name = \"aspirin#\"\n"
      ],
      "metadata": {
        "id": "_tDv5dm_eJqQ"
      },
      "execution_count": null,
      "outputs": []
    },
    {
      "cell_type": "code",
      "source": [
        "# Extraer la molecula del siguiente texto\n",
        "description = \"Solución al 10% de C6H12O6\"\n",
        "\n"
      ],
      "metadata": {
        "id": "vUc4cgYvePL1"
      },
      "execution_count": null,
      "outputs": []
    },
    {
      "cell_type": "code",
      "source": [],
      "metadata": {
        "id": "mbOT7wjEeRiO"
      },
      "execution_count": null,
      "outputs": []
    },
    {
      "cell_type": "markdown",
      "source": [
        "### 1.8.3 Proyecto Block Letters"
      ],
      "metadata": {
        "id": "YUukW4reqKga"
      }
    },
    {
      "cell_type": "markdown",
      "source": [
        "Instrucciones del Proyecto: Letras de Bloque para Tu Nombre\n",
        "\n",
        "Objetivo:\n",
        "Escribir un programa en Python que muestre las iniciales de tu nombre en letras de bloque en la consola.\n",
        "\n",
        "Requisitos:\n",
        "Define una función para cada letra de tu nombre que imprima la letra en bloque. Por ejemplo, si tu nombre es \"Ana\", necesitarás funciones para las letras A y N.\n",
        "Asegúrate de que cada letra se muestre correctamente en la consola. Puedes usar espacios y el carácter de subrayado (_) o cualquier otro que prefieras para crear la forma de la letra.\n",
        "Llama a cada función en el orden correcto para deletrear tu nombre.\n"
      ],
      "metadata": {
        "id": "fTjAvQO_q4m6"
      }
    },
    {
      "cell_type": "code",
      "source": [
        "def print_dog():\n",
        "    print(\"  / \\\\__\")\n",
        "    print(\" (    @\\\\___\")\n",
        "    print(\" /         O\")\n",
        "    print(\"/   (_____/\")\n",
        "    print(\"/_____/   U\")\n",
        "\n",
        "print_dog()\n"
      ],
      "metadata": {
        "colab": {
          "base_uri": "https://localhost:8080/"
        },
        "id": "RhefAVmGtirF",
        "outputId": "84784010-ea05-4de4-99d4-e7aa7f5a49d0"
      },
      "execution_count": null,
      "outputs": [
        {
          "output_type": "stream",
          "name": "stdout",
          "text": [
            "  / \\__\n",
            " (    @\\___\n",
            " /         O\n",
            "/   (_____/\n",
            "/_____/   U\n"
          ]
        }
      ]
    },
    {
      "cell_type": "code",
      "source": [
        "def print_H():\n",
        "    print(\"H   H\")\n",
        "    print(\"H   H\")\n",
        "    print(\"HHHHH\")\n",
        "    print(\"H   H\")\n",
        "    print(\"H   H\")\n",
        "\n",
        "def print_O():\n",
        "    print(\" OOO \")\n",
        "    print(\"O   O\")\n",
        "    print(\"O   O\")\n",
        "    print(\"O   O\")\n",
        "    print(\" OOO \")\n",
        "\n",
        "def print_L():\n",
        "    print(\"L    \")\n",
        "    print(\"L    \")\n",
        "    print(\"L    \")\n",
        "    print(\"L    \")\n",
        "    print(\"LLLLL\")\n",
        "\n",
        "def print_A():\n",
        "    print(\"  A  \")\n",
        "    print(\" A A \")\n",
        "    print(\"AAAAA\")\n",
        "    print(\"A   A\")\n",
        "    print(\"A   A\")\n",
        "\n",
        "def print_D():\n",
        "    print(\"DDD  \")\n",
        "    print(\"D  D \")\n",
        "    print(\"D   D\")\n",
        "    print(\"D  D \")\n",
        "    print(\"DDD  \")\n",
        "\n",
        "def print_space():\n",
        "    print(\" \")\n",
        "    print(\" \")\n",
        "    print(\" \")\n",
        "    print(\" \")\n",
        "    print(\" \")\n",
        "\n",
        "def print_hola_ada():\n",
        "    # Hola ADA\n",
        "    print_H()\n",
        "    print_space()\n",
        "    print_O()\n",
        "    print_space()\n",
        "    print_L()\n",
        "    print_space()\n",
        "    print_A()\n",
        "    print_space()\n",
        "    print_space()\n",
        "    print_A()\n",
        "    print_space()\n",
        "    print_D()\n",
        "    print_space()\n",
        "    print_A()\n",
        "\n",
        "# Call the function to display \"HOLA ADA\"\n",
        "print_hola_ada()\n"
      ],
      "metadata": {
        "colab": {
          "base_uri": "https://localhost:8080/"
        },
        "id": "qlDqso1nqRcV",
        "outputId": "97b2e568-9868-4ef3-8a4e-37c00bf21b3e"
      },
      "execution_count": null,
      "outputs": [
        {
          "output_type": "stream",
          "name": "stdout",
          "text": [
            "H   H\n",
            "H   H\n",
            "HHHHH\n",
            "H   H\n",
            "H   H\n",
            " \n",
            " \n",
            " \n",
            " \n",
            " \n",
            " OOO \n",
            "O   O\n",
            "O   O\n",
            "O   O\n",
            " OOO \n",
            " \n",
            " \n",
            " \n",
            " \n",
            " \n",
            "L    \n",
            "L    \n",
            "L    \n",
            "L    \n",
            "LLLLL\n",
            " \n",
            " \n",
            " \n",
            " \n",
            " \n",
            "  A  \n",
            " A A \n",
            "AAAAA\n",
            "A   A\n",
            "A   A\n",
            " \n",
            " \n",
            " \n",
            " \n",
            " \n",
            " \n",
            " \n",
            " \n",
            " \n",
            " \n",
            "  A  \n",
            " A A \n",
            "AAAAA\n",
            "A   A\n",
            "A   A\n",
            " \n",
            " \n",
            " \n",
            " \n",
            " \n",
            "DDD  \n",
            "D  D \n",
            "D   D\n",
            "D  D \n",
            "DDD  \n",
            " \n",
            " \n",
            " \n",
            " \n",
            " \n",
            "  A  \n",
            " A A \n",
            "AAAAA\n",
            "A   A\n",
            "A   A\n"
          ]
        }
      ]
    },
    {
      "cell_type": "markdown",
      "source": [
        "### 1.8.4 Proyecto: Recibos para \"Pugsy Store\"\n",
        "\n",
        "#### Objetivo:\n",
        "Desarrollar un programa en Python que calcule el costo total de los accesorios que un cliente desea adquirir en \"Pugsy Store\" y que genere un recibo detallado de su compra.\n",
        "\n",
        "#### Requisitos:\n",
        "\n",
        "1. **Descripción de los Productos:**\n",
        "   - Define variables que contengan las descripciones de los diversos accesorios para pugs que se venden en la tienda.\n",
        "   - Ejemplo: `collar_description = \"Collar para Pug. Cuero resistente con detalles en latón. Ajustable para cuellos de 15 a 22 cm.\"`\n",
        "\n",
        "2. **Precios de los Productos:**\n",
        "   - Asigna precios a cada uno de los accesorios como variables numéricas.\n",
        "   - Ejemplo: `collar_price = 19.99`\n",
        "\n",
        "3. **Cálculo del Costo:**\n",
        "   - Inicia una variable para mantener la cuenta total del cliente.\n",
        "   - Suma el precio del artículo al total a medida que el cliente selecciona los accesorios.\n",
        "\n",
        "4. **Cálculo de Impuestos:**\n",
        "   - Establece una tasa de impuestos y aplícala sobre el costo total para obtener el monto de impuestos a pagar.\n",
        "\n",
        "5. **Generación del Recibo:**\n",
        "   - Al concluir la selección de artículos, imprime un recibo que incluya:\n",
        "     - La lista de accesorios comprados con sus respectivos precios.\n",
        "     - El subtotal antes de impuestos.\n",
        "     - El total de impuestos.\n",
        "     - El costo final incluyendo los impuestos.\n",
        "\n",
        "6. **Código de Ejemplo:**\n",
        "\n",
        "```python\n",
        "# Recibos para Pugsy Store\n",
        "# Este programa calcula y muestra un recibo para la compra de accesorios de pugs.\n",
        "\n",
        "# Descripción de los productos\n",
        "collar_description = \"Collar para Pug. Cuero resistente con detalles en latón.\"\n",
        "collar_price = 19.99\n",
        "\n",
        "# Otros productos aquí...\n",
        "\n",
        "# Inicialización del costo\n",
        "customer_total = 0\n",
        "customer_itemization = \"\"\n",
        "\n",
        "# Agregar productos al total del cliente\n",
        "customer_total += collar_price\n",
        "customer_itemization += collar_description\n",
        "\n",
        "# Tasa de impuestos\n",
        "tax_rate = 0.07  # Supongamos un 7% de impuestos\n",
        "customer_tax = customer_total * tax_rate\n",
        "\n",
        "# Imprimir el recibo\n",
        "print(\"Recibo de Pugsy Store\")\n",
        "print(\"-----------------------\")\n",
        "print(customer_itemization)\n",
        "print(\"Subtotal: $\" + str(format(customer_total, '.2f')))\n",
        "print(\"Impuestos: $\" + str(format(customer_tax, '.2f')))\n",
        "print(\"Total: $\" + str(format(customer_total + customer_tax, '.2f')))\n",
        "```\n",
        "\n",
        "7. **Ejercicio Extendido (Opcional):**\n",
        "   - Implementa una interfaz donde el usuario pueda elegir entre una variedad de accesorios y sumar el total de su compra.\n",
        "   - Añade la funcionalidad de aplicar cupones de descuento o promociones especiales.\n",
        "\n",
        "#### Consejos:\n",
        "- Asegúrate de que el código esté bien estructurado y que las diferentes secciones estén claramente delimitadas y comentadas.\n",
        "- Utiliza concatenación de strings o formateo para ensamblar el recibo de una forma que sea fácil de leer.\n",
        "- No olvides probar tu código exhaustivamente para asegurarte de que los cálculos son correctos y el recibo se muestra adecuadamente.\n",
        "\n"
      ],
      "metadata": {
        "id": "6UyceP4trgdI"
      }
    },
    {
      "cell_type": "markdown",
      "source": [
        "## 1.9 Uso de Expresiones Regulares (Regex) en Python\n",
        "\n",
        "Las expresiones regulares, también conocidas como regex, son secuencias de caracteres que forman un patrón de búsqueda. En Python, se utilizan para trabajar con cadenas de texto (strings), permitiendo realizar búsquedas complejas y operaciones de sustitución.\n",
        "\n",
        "Aquí tienes una guía para principiantes sobre cómo usar las expresiones regulares en Python.\n",
        "\n",
        "## ¿Qué es Regex?\n",
        "\n",
        "Regex es un lenguaje de descripción de patrones que se utiliza para buscar y manipular texto basado en reglas definidas. Es especialmente útil para validar formatos, buscar coincidencias y limpiar datos.\n",
        "\n",
        "## Módulo `re` en Python\n",
        "\n",
        "Python incluye el módulo `re`, que proporciona un conjunto completo de operaciones de regex. Para usarlo, primero debes importarlo:\n",
        "\n",
        "```python\n",
        "import re\n",
        "```\n",
        "\n",
        "## Funciones Básicas del Módulo `re`\n",
        "\n",
        "### `re.search()`\n",
        "\n",
        "Busca un patrón en una cadena y devuelve un objeto de coincidencia si se encuentra, de lo contrario, devuelve `None`.\n",
        "\n",
        "```python\n",
        "import re\n",
        "\n",
        "text = \"Python es divertido\"\n",
        "pattern = 'es'\n",
        "match = re.search(pattern, text)\n",
        "\n",
        "if match:\n",
        "    print(\"Se encontró una coincidencia.\")\n",
        "else:\n",
        "    print(\"No se encontró ninguna coincidencia.\")\n",
        "```\n",
        "\n",
        "### `re.match()`\n",
        "\n",
        "Similar a `re.search()`, pero solo busca al principio de la cadena.\n",
        "\n",
        "```python\n",
        "match = re.match(pattern, text)\n",
        "\n",
        "if match:\n",
        "    print(\"Coincidencia al inicio de la cadena.\")\n",
        "else:\n",
        "    print(\"No se encontró coincidencia al inicio.\")\n",
        "```\n",
        "\n",
        "### `re.findall()`\n",
        "\n",
        "Encuentra todas las coincidencias de un patrón en una cadena y devuelve una lista.\n",
        "\n",
        "```python\n",
        "emails = \"contacto@ejemplo.com, soporte@ejemplo.com\"\n",
        "pattern = r'\\b[A-Za-z0-9._%+-]+@[A-Za-z0-9.-]+\\.[A-Z|a-z]{2,}\\b'\n",
        "found_emails = re.findall(pattern, emails)\n",
        "print(found_emails)\n",
        "```\n",
        "\n",
        "### `re.sub()`\n",
        "\n",
        "Reemplaza las coincidencias de un patrón en una cadena.\n",
        "\n",
        "```python\n",
        "text = \"Python es divertido, pero Python es también desafiante.\"\n",
        "pattern = 'Python'\n",
        "replace_with = 'Programación'\n",
        "new_text = re.sub(pattern, replace_with, text)\n",
        "print(new_text)\n",
        "```\n",
        "\n",
        "### `re.split()`\n",
        "\n",
        "Divide una cadena por las coincidencias de un patrón.\n",
        "\n",
        "```python\n",
        "text = \"Python-es-divertido\"\n",
        "pattern = '-'\n",
        "split_text = re.split(pattern, text)\n",
        "print(split_text)\n",
        "```\n",
        "\n",
        "## Patrones de Regex\n",
        "\n",
        "Los patrones en regex se construyen con una combinación de caracteres y símbolos especiales que tienen significados particulares:\n",
        "\n",
        "- `.`: Cualquier carácter excepto una nueva línea.\n",
        "- `^`: Inicio de la cadena.\n",
        "- `$`: Fin de la cadena.\n",
        "- `*`: Cero o más ocurrencias del elemento anterior.\n",
        "- `+`: Una o más ocurrencias del elemento anterior.\n",
        "- `?`: Cero o una ocurrencia del elemento anterior.\n",
        "- `\\s`: Espacio en blanco.\n",
        "- `\\S`: Cualquier carácter que no sea un espacio en blanco.\n",
        "- `\\d`: Cualquier dígito (equivalente a `[0-9]`).\n",
        "- `\\D`: Cualquier carácter que no sea un dígito.\n",
        "- `\\w`: Cualquier carácter alfanumérico (equivalente a `[a-zA-Z0-9_]`).\n",
        "- `\\W`: Cualquier carácter que no sea alfanumérico.\n",
        "- `[abc]`: Cualquiera de los caracteres entre corchetes.\n",
        "- `[^abc]`: Cualquier carácter que no esté entre corchetes.\n",
        "\n",
        "## Grupos y Rangos\n",
        "\n",
        "- `(a|b)`: Coincide con `a` o `b`.\n",
        "- `(abc)`: Coincide con la secuencia exacta `abc`.\n",
        "- `[a-z]`: Cualquier letra minúscula.\n",
        "- `[A-Z]`: Cualquier letra mayúscula.\n",
        "- `[0-9]`: Cualquier dígito.\n",
        "\n",
        "## Ejemplo Práctico\n",
        "\n",
        "```python\n",
        "text = \"El número de soporte es 1234-5678\"\n",
        "pattern = r'\\d{4}-\\d{4}'\n",
        "match = re.search(pattern, text)\n",
        "\n",
        "if match:\n",
        "    print(f\"Número encontrado: {match.group()}\")\n",
        "else:\n",
        "    print(\"No se encontró el número.\")\n",
        "```\n",
        "\n",
        "Este código busca un patrón de número telefónico en la cadena `text` y, si lo encuentra, imprime el número.\n",
        "\n",
        "Las expresiones regulares son muy poderosas y pueden ser bastante complejas, pero con práctica se convierten en una herramienta invaluable en el manejo de texto."
      ],
      "metadata": {
        "id": "2i9_AYoffMRr"
      }
    },
    {
      "cell_type": "markdown",
      "source": [
        "### Guía Detallada para Escribir Patrones de Búsqueda Regex\n",
        "\n",
        "Las expresiones regulares (regex) pueden ser intimidantes al principio, pero son extremadamente útiles para manipular texto. Aquí tienes una guía paso a paso para escribir patrones de búsqueda regex.\n",
        "\n",
        "## Paso 1: Definir el Problema\n",
        "\n",
        "Antes de escribir un regex, debes tener claro qué es lo que quieres buscar o manipular. Define claramente los patrones que esperas encontrar en el texto.\n",
        "\n",
        "## Paso 2: Entender los Meta-caracteres Básicos\n",
        "\n",
        "Los meta-caracteres son símbolos que tienen un significado especial en un patrón regex. Aquí algunos de los más comunes:\n",
        "\n",
        "- `.`: Cualquier carácter excepto nueva línea\n",
        "- `^`: Comienzo de la línea\n",
        "- `$`: Final de la línea\n",
        "- `*`: Cero o más repeticiones\n",
        "- `+`: Una o más repeticiones\n",
        "- `?`: Cero o una repetición\n",
        "- `\\s`: Espacio en blanco\n",
        "- `\\S`: No espacio en blanco\n",
        "- `\\d`: Dígitos (0-9)\n",
        "- `\\D`: No dígitos\n",
        "- `\\w`: Carácter de palabra (a-z, A-Z, 0-9, _)\n",
        "- `\\W`: No carácter de palabra\n",
        "\n",
        "## Paso 3: Crear Clases de Caracteres\n",
        "\n",
        "Si necesitas buscar un conjunto específico de caracteres, puedes usar corchetes `[]`.\n",
        "\n",
        "- `[abc]`: Buscará cualquier carácter 'a', 'b', o 'c'.\n",
        "- `[^abc]`: Buscará cualquier carácter excepto 'a', 'b', y 'c'.\n",
        "- `[a-z]`: Cualquier letra minúscula.\n",
        "- `[A-Z]`: Cualquier letra mayúscula.\n",
        "- `[0-9]`: Cualquier dígito.\n",
        "\n",
        "## Paso 4: Especificar la Cantidad con Cuantificadores\n",
        "\n",
        "Los cuantificadores te permiten especificar cuántas veces esperas que se repita un patrón.\n",
        "\n",
        "- `{n}`: Exactamente n veces\n",
        "- `{n,}`: n o más veces\n",
        "- `{,m}`: Hasta m veces\n",
        "- `{n,m}`: Entre n y m veces\n",
        "\n",
        "## Paso 5: Usar Grupos y Captura\n",
        "\n",
        "Los paréntesis `()` se utilizan para agrupar múltiples caracteres. Esto te permite aplicar cuantificadores a todo el grupo, y también puedes capturar el texto que coincida con ese grupo para su uso posterior.\n",
        "\n",
        "- `(abc)`: Coincidirá con 'abc' y lo capturará como un grupo.\n",
        "\n",
        "## Paso 6: Escapar Meta-caracteres\n",
        "\n",
        "Si necesitas buscar un meta-carácter como tal, debes \"escaparlo\" con una barra invertida `\\`.\n",
        "\n",
        "- `\\.`: Buscará un punto literal.\n",
        "- `\\\\`: Buscará una barra invertida literal.\n",
        "\n",
        "## Paso 7: Usar Flags\n",
        "\n",
        "Los flags modifican el comportamiento del regex.\n",
        "\n",
        "- `re.I`: Ignora mayúsculas y minúsculas.\n",
        "- `re.M`: Hace que `^` y `$` coincidan con el inicio y final de cada línea.\n",
        "- `re.S`: Hace que `.` coincida también con nueva línea.\n",
        "\n",
        "## Paso 8: Escribir y Testear\n",
        "\n",
        "Escribe tu regex y prueba con texto de ejemplo. Puedes usar sitios web como regex101.com para probar tus expresiones regulares y entender cómo funcionan.\n",
        "\n",
        "## Ejemplo: Validar un Email\n",
        "\n",
        "Supongamos que queremos validar una dirección de correo electrónico. Un email básico puede tener la estructura `nombre@dominio.ext`.\n",
        "\n",
        "```regex\n",
        "^[\\w\\.-]+@[\\w\\.-]+\\.\\w+$\n",
        "```\n",
        "\n",
        "Desglosemos el patrón:\n",
        "\n",
        "- `^`: Inicio de la línea.\n",
        "- `[\\w\\.-]+`: Uno o más caracteres de palabra, punto o guión.\n",
        "- `@`: El carácter literal '@'.\n",
        "- `[\\w\\.-]+`: Uno o más caracteres de palabra, punto o guión (para el dominio).\n",
        "- `\\.`: Un punto literal.\n",
        "- `\\w+`: Uno o más caracteres de palabra (para la extensión).\n",
        "- `$`: Fin de la línea.\n",
        "\n",
        "Recuerda que escribir regex es un proceso iterativo. Comienza simple, prueba y luego expande o ajusta el patrón a medida que encuentras casos de uso más complejos o excepciones."
      ],
      "metadata": {
        "id": "KN3C7CtOf29T"
      }
    },
    {
      "cell_type": "markdown",
      "source": [
        "### 1.9.1 Ejemplos"
      ],
      "metadata": {
        "id": "9mLf89B6ggQK"
      }
    },
    {
      "cell_type": "code",
      "source": [
        "import re\n",
        "\n",
        "# 1. Buscar si una cadena contiene dígitos:\n",
        "\n",
        "texto = \"El año 2023 es el próximo año.\"\n",
        "patron = r\"\\d+\"  # Uno o más dígitos\n",
        "\n",
        "resultado = re.findall(patron, texto)\n",
        "print(resultado)  # ['2023']\n"
      ],
      "metadata": {
        "colab": {
          "base_uri": "https://localhost:8080/"
        },
        "id": "22iNJwKYfOyS",
        "outputId": "bb6fe8e6-c6a4-42af-b6bc-d46ac23a1f3b"
      },
      "execution_count": null,
      "outputs": [
        {
          "output_type": "stream",
          "name": "stdout",
          "text": [
            "['2023']\n"
          ]
        }
      ]
    },
    {
      "cell_type": "code",
      "source": [
        "# Validar un número de teléfono (formato simple):\n",
        "telefono = \"123-456-7890\"\n",
        "patron = r\"^\\d{3}-\\d{3}-\\d{4}$\"  # Tres dígitos, guión, tres dígitos, guión, cuatro dígitos\n",
        "\n",
        "resultado = re.match(patron, telefono)\n",
        "print(bool(resultado))  # True si coincide, False si no\n"
      ],
      "metadata": {
        "colab": {
          "base_uri": "https://localhost:8080/"
        },
        "id": "qSU2WxNFgmWN",
        "outputId": "37b7e37a-fee6-4fa5-be59-30471787ccb3"
      },
      "execution_count": null,
      "outputs": [
        {
          "output_type": "stream",
          "name": "stdout",
          "text": [
            "True\n"
          ]
        }
      ]
    },
    {
      "cell_type": "code",
      "source": [
        "# Buscar correos electrónicos en un texto:\n",
        "texto = \"Envíame un email a ejemplo@dominio.com para contactarme.\"\n",
        "patron = r\"[\\w\\.-]+@[\\w\\.-]+\\.\\w+\"  # Palabras, punto o guión seguidos de @, más palabra, punto, palabra\n",
        "\n",
        "emails = re.findall(patron, texto)\n",
        "print(emails)  # ['ejemplo@dominio.com']\n"
      ],
      "metadata": {
        "colab": {
          "base_uri": "https://localhost:8080/"
        },
        "id": "6DCM5eLlgpjJ",
        "outputId": "f12a5892-dcd7-4c60-923e-16d78792607c"
      },
      "execution_count": null,
      "outputs": [
        {
          "output_type": "stream",
          "name": "stdout",
          "text": [
            "['ejemplo@dominio.com']\n"
          ]
        }
      ]
    },
    {
      "cell_type": "code",
      "source": [
        "# Reemplazar espacios en blanco por un guión bajo:\n",
        "texto = \"Python es divertido\"\n",
        "patron = r\"\\s+\"  # Uno o más espacios en blanco\n",
        "\n",
        "texto_modificado = re.sub(patron, \"_\", texto)\n",
        "print(texto_modificado)  # 'Python_es_divertido'\n"
      ],
      "metadata": {
        "colab": {
          "base_uri": "https://localhost:8080/"
        },
        "id": "skO_SV2Bgunl",
        "outputId": "6a0238e0-5166-426c-8eca-4ca69617eac2"
      },
      "execution_count": null,
      "outputs": [
        {
          "output_type": "stream",
          "name": "stdout",
          "text": [
            "Python_es_divertido\n"
          ]
        }
      ]
    },
    {
      "cell_type": "code",
      "source": [
        "# Extraer el nombre de usuario de una dirección de correo electrónico:\n",
        "email = \"usuario@example.com\"\n",
        "patron = r\"^(.+)@\"  # Todo hasta el @\n",
        "\n",
        "nombre_usuario = re.search(patron, email).group(1)\n",
        "print(nombre_usuario)  # 'usuario'\n"
      ],
      "metadata": {
        "colab": {
          "base_uri": "https://localhost:8080/"
        },
        "id": "l5_CrKdRgxpF",
        "outputId": "1535d4c2-5394-4420-d78b-dd1101eaa9d8"
      },
      "execution_count": null,
      "outputs": [
        {
          "output_type": "stream",
          "name": "stdout",
          "text": [
            "usuario\n"
          ]
        }
      ]
    },
    {
      "cell_type": "code",
      "source": [
        "# Buscar todas las palabras que comienzan con 'a' en una cadena:\n",
        "texto = \"Ana ama las manzanas y las aves\"\n",
        "patron = r\"\\ba\\w*\"  # a seguido de cualquier palabra\n",
        "\n",
        "palabras = re.findall(patron, texto)\n",
        "print(palabras)  # ['ama', 'anas', 'aves']\n"
      ],
      "metadata": {
        "colab": {
          "base_uri": "https://localhost:8080/"
        },
        "id": "1FkRbSaNg2f5",
        "outputId": "8a563e55-e44a-4635-d4f3-2ea089f8a3d8"
      },
      "execution_count": null,
      "outputs": [
        {
          "output_type": "stream",
          "name": "stdout",
          "text": [
            "['ama', 'aves']\n"
          ]
        }
      ]
    },
    {
      "cell_type": "code",
      "source": [
        "# Dividir una cadena en cada coma, ignorando espacios:\n",
        "texto = \"rojo, verde, azul,amarillo\"\n",
        "patron = r\"\\s*,\\s*\"  # Coma con espacios opcionales antes y después\n",
        "\n",
        "colores = re.split(patron, texto)\n",
        "print(colores)  # ['rojo', 'verde', 'azul', 'amarillo']\n"
      ],
      "metadata": {
        "colab": {
          "base_uri": "https://localhost:8080/"
        },
        "id": "ikm4v6IRg5Sx",
        "outputId": "1a5d8ed0-e5a3-497f-9ed3-91f2cd75c118"
      },
      "execution_count": null,
      "outputs": [
        {
          "output_type": "stream",
          "name": "stdout",
          "text": [
            "['rojo', 'verde', 'azul', 'amarillo']\n"
          ]
        }
      ]
    },
    {
      "cell_type": "code",
      "source": [
        "# Buscar palabras que terminen con 'ar':\n",
        "\n",
        "texto = \"Programar en Python es popular\"\n",
        "patron = r\"\\b\\w*ar\\b\"  # Palabras que terminan con 'ar'\n",
        "\n",
        "palabras = re.findall(patron, texto)\n",
        "print(palabras)  # ['Programar', 'popular']\n"
      ],
      "metadata": {
        "colab": {
          "base_uri": "https://localhost:8080/"
        },
        "id": "z6z_WkwLg8n_",
        "outputId": "24ad8b56-7d45-4e62-d986-653a7b14c13c"
      },
      "execution_count": null,
      "outputs": [
        {
          "output_type": "stream",
          "name": "stdout",
          "text": [
            "['Programar', 'popular']\n"
          ]
        }
      ]
    },
    {
      "cell_type": "code",
      "source": [
        "# Extraer el dominio de una URL:\n",
        "url = \"https://www.ejemplo.com/pagina\"\n",
        "patron = r\"https?://([\\w\\.-]+)/\"  # Protocolo seguido de dominio\n",
        "\n",
        "dominio = re.search(patron, url).group(1)\n",
        "print(dominio)  # 'www.ejemplo.com'\n"
      ],
      "metadata": {
        "colab": {
          "base_uri": "https://localhost:8080/"
        },
        "id": "7fT1MG35hDAr",
        "outputId": "d2122d53-5b59-487d-8da6-50007e4640c7"
      },
      "execution_count": null,
      "outputs": [
        {
          "output_type": "stream",
          "name": "stdout",
          "text": [
            "www.ejemplo.com\n"
          ]
        }
      ]
    },
    {
      "cell_type": "markdown",
      "source": [
        "### 1.9.2 Ejemplos de Regex en Química"
      ],
      "metadata": {
        "id": "Sn5rV0Grhb8u"
      }
    },
    {
      "cell_type": "code",
      "source": [
        "import re\n",
        "\n",
        "# Ejemplo 1: Buscar todos los átomos de carbono en una molécula\n",
        "smiles = \"CCOCC\"\n",
        "pattern = r\"C\"\n",
        "carbon_atoms = re.findall(pattern, smiles)\n",
        "print(carbon_atoms)  # ['C', 'C', 'C', 'C']"
      ],
      "metadata": {
        "colab": {
          "base_uri": "https://localhost:8080/"
        },
        "id": "X_umJfgQhE_D",
        "outputId": "e983743b-5667-4116-f74a-4692e396fc28"
      },
      "execution_count": null,
      "outputs": [
        {
          "output_type": "stream",
          "name": "stdout",
          "text": [
            "['C', 'C', 'C', 'C']\n"
          ]
        }
      ]
    },
    {
      "cell_type": "code",
      "source": [
        "# Ejemplo 2: Contar el número de enlaces simples en una molécula\n",
        "smiles = \"C-C=C-C\"\n",
        "pattern = r\"-\"\n",
        "single_bonds = re.findall(pattern, smiles)\n",
        "print(len(single_bonds))  # 3"
      ],
      "metadata": {
        "colab": {
          "base_uri": "https://localhost:8080/"
        },
        "id": "f0znonXMhoii",
        "outputId": "b4efa362-3edf-468e-a46f-b4b6d2cecf7e"
      },
      "execution_count": null,
      "outputs": [
        {
          "output_type": "stream",
          "name": "stdout",
          "text": [
            "2\n"
          ]
        }
      ]
    },
    {
      "cell_type": "code",
      "source": [
        "# Ejemplo 3: Identificar si una molécula contiene un anillo\n",
        "smiles = \"C1CCCCC1\"\n",
        "pattern = r\"\\d\"\n",
        "contains_ring = bool(re.search(pattern, smiles))\n",
        "print(contains_ring)  # True"
      ],
      "metadata": {
        "colab": {
          "base_uri": "https://localhost:8080/"
        },
        "id": "f8TDB9zyhrXB",
        "outputId": "5bb69102-f6d7-4a13-86ce-19ccb31af2ee"
      },
      "execution_count": null,
      "outputs": [
        {
          "output_type": "stream",
          "name": "stdout",
          "text": [
            "True\n"
          ]
        }
      ]
    },
    {
      "cell_type": "code",
      "source": [
        "# Ejemplo 4: Encontrar todos los grupos hidroxilo en una molécula\n",
        "smiles = \"COCCOH\"\n",
        "pattern = r\"COH?\"\n",
        "hydroxyl_groups = re.findall(pattern, smiles)\n",
        "print(hydroxyl_groups)  # ['CO', 'COH']"
      ],
      "metadata": {
        "colab": {
          "base_uri": "https://localhost:8080/"
        },
        "id": "k7MAgPJlhtGK",
        "outputId": "d6544fea-85a8-4b02-a47d-a9476c4c7698"
      },
      "execution_count": null,
      "outputs": [
        {
          "output_type": "stream",
          "name": "stdout",
          "text": [
            "['CO', 'COH']\n"
          ]
        }
      ]
    },
    {
      "cell_type": "code",
      "source": [
        "# Ejemplo 5: Identificar grupos alquilo (cadenas laterales de carbono)\n",
        "smiles = \"CCC(C)C\"\n",
        "pattern = r\"\\(C+\\)\"\n",
        "alkyl_groups = re.findall(pattern, smiles)\n",
        "print(alkyl_groups)  # ['(C)']"
      ],
      "metadata": {
        "colab": {
          "base_uri": "https://localhost:8080/"
        },
        "id": "YnziXyLNhuvV",
        "outputId": "8ef384b9-abe5-4a3e-ba61-b1603b002578"
      },
      "execution_count": null,
      "outputs": [
        {
          "output_type": "stream",
          "name": "stdout",
          "text": [
            "['(C)']\n"
          ]
        }
      ]
    },
    {
      "cell_type": "code",
      "source": [
        "# Ejemplo 6: Buscar átomos de nitrógeno que no estén en un anillo\n",
        "smiles = \"NCC(=O)NC\"\n",
        "pattern = r\"N(?!C*\\d)\"\n",
        "nitrogen_atoms = re.findall(pattern, smiles)\n",
        "print(nitrogen_atoms)  # ['N', 'N']"
      ],
      "metadata": {
        "colab": {
          "base_uri": "https://localhost:8080/"
        },
        "id": "NeaetAluhxqG",
        "outputId": "18cf0ea8-9299-4548-81ec-55274279b674"
      },
      "execution_count": null,
      "outputs": [
        {
          "output_type": "stream",
          "name": "stdout",
          "text": [
            "['N', 'N']\n"
          ]
        }
      ]
    },
    {
      "cell_type": "code",
      "source": [
        "# Ejemplo 7: Identificar todos los enlaces dobles en una molécula\n",
        "smiles = \"C=CC=C=C\"\n",
        "pattern = r\"=\"\n",
        "double_bonds = re.findall(pattern, smiles)\n",
        "print(double_bonds)  # ['=', '=', '=']"
      ],
      "metadata": {
        "colab": {
          "base_uri": "https://localhost:8080/"
        },
        "id": "BNKTbGw0hztq",
        "outputId": "8259ec94-734a-4d73-e9fd-8b22bcddd276"
      },
      "execution_count": null,
      "outputs": [
        {
          "output_type": "stream",
          "name": "stdout",
          "text": [
            "['=', '=', '=']\n"
          ]
        }
      ]
    },
    {
      "cell_type": "code",
      "source": [
        "# Ejemplo 8: Extraer todos los átomos de un SMILES que no son carbono ni hidrógeno\n",
        "smiles = \"CC(N)O\"\n",
        "pattern = r\"[^CH]\"\n",
        "other_atoms = re.findall(pattern, smiles)\n",
        "print(other_atoms)  # ['N', 'O']"
      ],
      "metadata": {
        "colab": {
          "base_uri": "https://localhost:8080/"
        },
        "id": "VABybuBlh1WG",
        "outputId": "f5eb972d-641b-427e-ad87-05c180bf2cc2"
      },
      "execution_count": null,
      "outputs": [
        {
          "output_type": "stream",
          "name": "stdout",
          "text": [
            "['(', 'N', ')', 'O']\n"
          ]
        }
      ]
    },
    {
      "cell_type": "code",
      "source": [
        "# Ejemplo 9: Verificar si una molécula contiene un grupo amino\n",
        "smiles = \"CC(N)C(=O)O\"\n",
        "pattern = r\"NC\"\n",
        "contains_amino_group = bool(re.search(pattern, smiles))\n",
        "print(contains_amino_group)  # True"
      ],
      "metadata": {
        "colab": {
          "base_uri": "https://localhost:8080/"
        },
        "id": "UDuaJ91mh39h",
        "outputId": "fd1f2364-d95e-443e-d991-697521114941"
      },
      "execution_count": null,
      "outputs": [
        {
          "output_type": "stream",
          "name": "stdout",
          "text": [
            "False\n"
          ]
        }
      ]
    },
    {
      "cell_type": "code",
      "source": [
        "# Ejemplo 10: Encontrar todos los halógenos en una molécula (F, Cl, Br, I)\n",
        "smiles = \"CClCBrCFI\"\n",
        "pattern = r\"[FClBrI]\"\n",
        "halogens = re.findall(pattern, smiles)\n",
        "print(halogens)  # ['Cl', 'Br', 'C', 'F', 'I']"
      ],
      "metadata": {
        "colab": {
          "base_uri": "https://localhost:8080/"
        },
        "id": "47ZbfzTNh6RL",
        "outputId": "f1315309-1cd1-4aa6-e741-9ba6b24c5311"
      },
      "execution_count": null,
      "outputs": [
        {
          "output_type": "stream",
          "name": "stdout",
          "text": [
            "['C', 'C', 'l', 'C', 'B', 'r', 'C', 'F', 'I']\n"
          ]
        }
      ]
    },
    {
      "cell_type": "markdown",
      "source": [
        "## 1.10. Alcance (scope) de variables\n",
        "\n",
        "El alcance de una variable se refiere a la región de un programa en la que una variable es accesible. Python tiene una regla simple para el alcance de las variables conocida como LEGB, que significa Local, Enclosing, Global, Built-in. Vamos a ilustrar esto con ejemplos para una explicación más clara.\n",
        "\n",
        "### Ejemplo 1: Alcance Local\n",
        "\n",
        "```python\n",
        "def mi_funcion():\n",
        "    variable_local = 5\n",
        "    return variable_local\n",
        "```\n",
        "\n",
        "La variable `variable_local` solo es accesible dentro de `mi_funcion()`. Fuera de esta función, la variable es inaccesible.\n",
        "\n",
        "$$\n",
        "\\text{variable_local} \\rightarrow \\text{Alcance Local}\n",
        "$$\n",
        "\n",
        "### Ejemplo 2: Alcance Global\n",
        "\n",
        "```python\n",
        "variable_global = 10\n",
        "\n",
        "def mostrar_variable():\n",
        "    return variable_global\n",
        "```\n",
        "\n",
        "La variable `variable_global` es accesible en todo el programa, incluyendo dentro de las funciones.\n",
        "\n",
        "$$\n",
        "\\text{variable_global} \\rightarrow \\text{Alcance Global}\n",
        "$$\n",
        "\n",
        "### Ejemplo 3: Modificación de una Variable Global\n",
        "\n",
        "```python\n",
        "contador = 0\n",
        "\n",
        "def incrementar_contador():\n",
        "    global contador\n",
        "    contador += 1\n",
        "```\n",
        "\n",
        "La palabra clave `global` permite modificar la variable `contador` dentro de la función.\n",
        "\n",
        "$$\n",
        "\\text{contador} \\rightarrow \\text{Modificado Globalmente}\n",
        "$$\n",
        "\n",
        "### Ejemplo 4: Alcance Enclosing\n",
        "\n",
        "```python\n",
        "def funcion_externa():\n",
        "    variable_enclosing = \"externa\"\n",
        "\n",
        "    def funcion_interna():\n",
        "        return variable_enclosing\n",
        "\n",
        "    return funcion_interna()\n",
        "```\n",
        "\n",
        "La variable `variable_enclosing` tiene un alcance que encierra la `funcion_interna()`, lo que permite su acceso dentro de la función anidada.\n",
        "\n",
        "$$\n",
        "\\text{variable_enclosing} \\rightarrow \\text{Alcance Enclosing}\n",
        "$$\n",
        "\n",
        "### Ejemplo 5: Alcance Built-in\n",
        "\n",
        "```python\n",
        "def mostrar_longitud(lista):\n",
        "    return len(lista)\n",
        "```\n",
        "\n",
        "La función `len` es un ejemplo de una variable de alcance integrado o \"built-in\" y es accesible en cualquier parte del programa.\n",
        "\n",
        "$$\n",
        "\\text{len} \\rightarrow \\text{Alcance Built-in}\n",
        "$$\n",
        "\n",
        "### Ejemplo 6: Sombreado (shadowing) de Variables\n",
        "\n",
        "```python\n",
        "x = 10\n",
        "\n",
        "def cambiar_x():\n",
        "    x = 5\n",
        "    return x\n",
        "\n",
        "cambiar_x()\n",
        "```\n",
        "\n",
        "La variable `x` dentro de `cambiar_x()` sombrea la variable `x` global.\n",
        "\n",
        "$$\n",
        "\\text{x} \\rightarrow \\text{Sombreado por Alcance Local}\n",
        "$$\n",
        "\n",
        "### Ejemplo 7: Variables Inaccesibles\n",
        "\n",
        "```python\n",
        "def establecer_valor():\n",
        "    valor_inaccesible = 99\n",
        "\n",
        "print(valor_inaccesible)\n",
        "```\n",
        "\n",
        "Intentar imprimir `valor_inaccesible` fuera de su función generará un error ya que su alcance es local a `establecer_valor()`.\n",
        "\n",
        "$$\n",
        "\\text{valor_inaccesible} \\rightarrow \\text{Inaccesible fuera de su función}\n",
        "$$\n",
        "\n",
        "### Ejemplo 8: Alcance y Bucles\n",
        "\n",
        "```python\n",
        "for i in range(3):\n",
        "    valor_bucle = i\n",
        "print(valor_bucle)\n",
        "```\n",
        "\n",
        "La variable `valor_bucle` es accesible fuera del bucle.\n",
        "\n",
        "$$\n",
        "\\text{valor_bucle} \\rightarrow \\text{Accesible después del bucle}\n",
        "$$\n",
        "\n",
        "### Ejemplo 9: Alcance y Excepciones\n",
        "\n",
        "```python\n",
        "try:\n",
        "    with open('archivo.txt') as f:\n",
        "        contenido = f.read()\n",
        "except FileNotFoundError:\n",
        "    contenido = None\n",
        "```\n",
        "\n",
        "La variable `contenido` es accesible después del bloque `try`.\n",
        "\n",
        "$$\n",
        "\\text{contenido} \\rightarrow \\text{Accesible después del try-except}\n",
        "$$\n",
        "\n",
        "### Ejemplo 10: Alcance y Comprensiones de Listas\n",
        "\n",
        "```python\n",
        "[variable_lista for variable_lista in range(5)]\n",
        "print(variable_lista)\n",
        "```\n",
        "\n",
        "La variable `variable_lista` en una comprensión de lista no es accesible fuera de la comprensión.\n",
        "\n",
        "$$\n",
        "\\text{variable_lista} \\rightarrow \\text{Inaccesible fuera de la comprensión}\n",
        "$$\n",
        "\n",
        "Estos ejemplos muestran cómo el alcance de las variables afecta su accesibilidad y visibilidad en diferentes partes del código en Python."
      ],
      "metadata": {
        "id": "5j6JLFv5jNtU"
      }
    },
    {
      "cell_type": "code",
      "source": [],
      "metadata": {
        "id": "gx0_2zO2jP2s"
      },
      "execution_count": null,
      "outputs": []
    },
    {
      "cell_type": "markdown",
      "source": [
        "## 1.11 Adivina el tipo de dato"
      ],
      "metadata": {
        "id": "tbJVHUNovZGq"
      }
    },
    {
      "cell_type": "markdown",
      "source": [
        "Instrucciones: Ejecuta la siguiente celda e ingresa las respuestas correctas.\n",
        "\n",
        "Responde con los siguientes valores: `str`, `int`, `float`, `bool`, `list`, `tuple`, `dict`, `set`"
      ],
      "metadata": {
        "id": "jhAEDoc31jg2"
      }
    },
    {
      "cell_type": "code",
      "source": [
        "import requests\n",
        "import json\n",
        "\n",
        "# Función para verificar las respuestas del usuario\n",
        "def verificar_respuestas(respuestas_usuario, respuestas_correctas):\n",
        "    resultados = []\n",
        "    for i, respuesta in enumerate(respuestas_usuario):\n",
        "        if respuestas_correctas[i].lower() == respuesta.lower():\n",
        "            resultados.append(f\"Ejercicio {i+1}: Correcto!\")\n",
        "        else:\n",
        "            resultados.append(f\"Ejercicio {i+1}: Incorrecto, el tipo de dato correcto es {respuestas_correctas[i]}\")\n",
        "    return resultados\n",
        "\n",
        "gist_url = 'https://raw.githubusercontent.com/catorch/curso_python/3ae07a05fbcee2c266a90c46c59401e7e67e1450/exam1.json'\n",
        "\n",
        "# Obtener los datos del Gist\n",
        "response = requests.get(gist_url)\n",
        "if response.status_code == 200:\n",
        "    data = response.json()\n",
        "else:\n",
        "    print(\"Error al obtener los datos del Gist.\")\n",
        "    data = []\n",
        "\n",
        "# Lista de valores para los ejercicios y respuestas correctas\n",
        "ejercicios = [item['question'] for item in data]\n",
        "respuestas_correctas = [item['answer'] for item in data]\n",
        "\n",
        "# Usuario ingresa sus respuestas aquí\n",
        "respuestas_usuario = []\n",
        "for i, ej in enumerate(ejercicios):\n",
        "    try:\n",
        "        # Intentar obtener la respuesta del usuario\n",
        "        respuesta = input(f\"Ejercicio {i+1}, adivina el tipo de dato de {ej}: \")\n",
        "        respuestas_usuario.append(respuesta)\n",
        "    except KeyboardInterrupt:\n",
        "        # Manejar la interrupción por parte del usuario\n",
        "        print(\"\\nLa entrada ha sido interrumpida por el usuario. Continuando con las respuestas ingresadas hasta ahora.\")\n",
        "        break  # Salir del ciclo de solicitar respuestas\n",
        "\n",
        "# Si el usuario no ingresó todas las respuestas, rellenar las restantes con un valor que indique que fueron omitidas\n",
        "if len(respuestas_usuario) < len(ejercicios):\n",
        "    respuestas_usuario.extend(['omitida' for _ in range(len(ejercicios) - len(respuestas_usuario))])\n",
        "\n",
        "# Verificación de las respuestas\n",
        "resultados = verificar_respuestas(respuestas_usuario, respuestas_correctas)\n",
        "\n",
        "# Imprimir los resultados\n",
        "for resultado in resultados:\n",
        "    print(resultado)\n"
      ],
      "metadata": {
        "id": "ZQNyoTmiztcB"
      },
      "execution_count": null,
      "outputs": []
    },
    {
      "cell_type": "code",
      "source": [],
      "metadata": {
        "id": "UzS_APoZ11FO"
      },
      "execution_count": 7,
      "outputs": []
    },
    {
      "cell_type": "code",
      "source": [],
      "metadata": {
        "id": "RcQyU1Hm0oVC"
      },
      "execution_count": null,
      "outputs": []
    }
  ]
}